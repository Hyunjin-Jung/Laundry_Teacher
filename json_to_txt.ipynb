{
 "cells": [
  {
   "cell_type": "markdown",
   "metadata": {},
   "source": [
    "파일 경로는 수정해야합니다.\n",
    "두 클래스를 엮어서 나타낸 것."
   ]
  },
  {
   "cell_type": "code",
   "execution_count": 3,
   "metadata": {},
   "outputs": [
    {
     "name": "stdout",
     "output_type": "stream",
     "text": [
      "['01_sou_001106_005526_front_03-2onepiece(jumpsuite)_woman.json', '01_sou_001106_005527_back_03-2onepiece(jumpsuite)_woman.json', '01_sou_001106_005528_wear_03-2onepiece(jumpsuite)_woman.json', '01_sou_001106_005529_wear_03-2onepiece(jumpsuite)_woman.json', '01_sou_001106_005530_wear_03-2onepiece(jumpsuite)_woman.json', '01_sou_003051_015251_front_03-2onepiece(jumpsuite)_man.json', '01_sou_003051_015252_back_03-2onepiece(jumpsuite)_man.json', '01_sou_003051_015253_wear_03-2onepiece(jumpsuite)_man.json', '01_sou_006055_030271_front_03-2onepiece(jumpsuite)_woman.json', '01_sou_006055_030272_back_03-2onepiece(jumpsuite)_woman.json', '01_sou_006055_030273_wear_03-2onepiece(jumpsuite)_woman.json', '01_sou_006057_030281_front_03-2onepiece(jumpsuite)_woman.json', '01_sou_006057_030282_back_03-2onepiece(jumpsuite)_woman.json', '01_sou_006057_030283_wear_03-2onepiece(jumpsuite)_woman.json', '01_sou_006057_030284_wear_03-2onepiece(jumpsuite)_woman.json', '01_sou_008687_043431_front_03-2onepiece(jumpsuite)_woman.json', '01_sou_008687_043432_back_03-2onepiece(jumpsuite)_woman.json', '01_sou_008687_043433_wear_03-2onepiece(jumpsuite)_woman.json', '01_sou_008687_043434_wear_03-2onepiece(jumpsuite)_woman.json', '01_sou_008687_043435_wear_03-2onepiece(jumpsuite)_woman.json', '01_sou_008688_043436_front_03-2onepiece(jumpsuite)_woman.json', '01_sou_008688_043437_back_03-2onepiece(jumpsuite)_woman.json', '01_sou_008688_043438_wear_03-2onepiece(jumpsuite)_woman.json', '01_sou_008688_043439_wear_03-2onepiece(jumpsuite)_woman.json', '01_sou_008688_043440_wear_03-2onepiece(jumpsuite)_woman.json', '01_sou_008689_043441_front_03-2onepiece(jumpsuite)_woman.json', '01_sou_008689_043442_back_03-2onepiece(jumpsuite)_woman.json', '01_sou_008689_043443_wear_03-2onepiece(jumpsuite)_woman.json', '01_sou_008689_043444_wear_03-2onepiece(jumpsuite)_woman.json', '01_sou_008690_043446_front_03-2onepiece(jumpsuite)_woman.json', '01_sou_008690_043447_back_03-2onepiece(jumpsuite)_woman.json', '01_sou_008690_043448_wear_03-2onepiece(jumpsuite)_woman.json', '01_sou_008690_043449_wear_03-2onepiece(jumpsuite)_woman.json', '01_sou_008690_043450_wear_03-2onepiece(jumpsuite)_woman.json', '01_sou_008691_043451_front_03-2onepiece(jumpsuite)_woman.json', '01_sou_008691_043452_back_03-2onepiece(jumpsuite)_woman.json', '01_sou_008691_043454_wear_03-2onepiece(jumpsuite)_woman.json', '01_sou_008691_043455_wear_03-2onepiece(jumpsuite)_woman.json', '01_sou_013934_069666_front_03-2onepiece(jumpsuite)_woman.json', '01_sou_013934_069667_back_03-2onepiece(jumpsuite)_woman.json', '01_sou_013934_069670_wear_03-2onepiece(jumpsuite)_woman.json', '01_sou_016895_084471_front_03-2onepiece(jumpsuite)_woman.json', '01_sou_016895_084472_back_03-2onepiece(jumpsuite)_woman.json', '01_sou_016895_084473_wear_03-2onepiece(jumpsuite)_woman.json', '01_sou_016895_084474_wear_03-2onepiece(jumpsuite)_woman.json', '01_sou_016895_084475_wear_03-2onepiece(jumpsuite)_woman.json', '01_sou_016897_084481_front_03-2onepiece(jumpsuite)_woman.json', '01_sou_016897_084482_back_03-2onepiece(jumpsuite)_woman.json', '01_sou_016897_084483_wear_03-2onepiece(jumpsuite)_woman.json', '01_sou_016897_084484_wear_03-2onepiece(jumpsuite)_woman.json', '01_sou_016897_084485_wear_03-2onepiece(jumpsuite)_woman.json', '01_sou_016899_084491_front_03-2onepiece(jumpsuite)_woman.json', '01_sou_016899_084492_back_03-2onepiece(jumpsuite)_woman.json', '01_sou_016899_084493_wear_03-2onepiece(jumpsuite)_woman.json', '01_sou_016899_084494_wear_03-2onepiece(jumpsuite)_woman.json', '01_sou_016904_084517_back_03-2onepiece(jumpsuite)_woman.json', '01_sou_016904_084519_wear_03-2onepiece(jumpsuite)_woman.json', '01_sou_016905_084521_front_03-2onepiece(jumpsuite)_woman.json', '01_sou_016905_084522_back_03-2onepiece(jumpsuite)_woman.json', '01_sou_016905_084523_wear_03-2onepiece(jumpsuite)_woman.json', '01_sou_016905_084525_wear_03-2onepiece(jumpsuite)_woman.json', '01_sou_019019_095091_front_03-2onepiece(jumpsuite)_woman.json', '01_sou_019019_095092_back_03-2onepiece(jumpsuite)_woman.json', '01_sou_019019_095093_wear_03-2onepiece(jumpsuite)_woman.json', '01_sou_019019_095094_wear_03-2onepiece(jumpsuite)_woman.json', '01_sou_019019_095095_wear_03-2onepiece(jumpsuite)_woman.json', '01_sou_019021_095101_front_03-2onepiece(jumpsuite)_woman.json', '01_sou_019021_095102_back_03-2onepiece(jumpsuite)_woman.json', '01_sou_019021_095103_wear_03-2onepiece(jumpsuite)_woman.json', '01_sou_019021_095104_wear_03-2onepiece(jumpsuite)_woman.json', '01_sou_019021_095105_wear_03-2onepiece(jumpsuite)_woman.json', '01_sou_019022_095106_front_03-2onepiece(jumpsuite)_woman.json', '01_sou_019022_095107_back_03-2onepiece(jumpsuite)_woman.json', '01_sou_019022_095108_wear_03-2onepiece(jumpsuite)_woman.json', '01_sou_019022_095109_wear_03-2onepiece(jumpsuite)_woman.json', '01_sou_019022_095110_wear_03-2onepiece(jumpsuite)_woman.json', '01_sou_023655_118271_front_03-2onepiece(jumpsuite)_woman.json', '01_sou_023655_118272_back_03-2onepiece(jumpsuite)_woman.json', '01_sou_023655_118273_wear_03-2onepiece(jumpsuite)_woman.json', '01_sou_023655_118274_wear_03-2onepiece(jumpsuite)_woman.json', '01_sou_023655_118275_wear_03-2onepiece(jumpsuite)_woman.json', '01_sou_023656_118276_front_03-2onepiece(jumpsuite)_woman.json', '01_sou_023656_118277_back_03-2onepiece(jumpsuite)_woman.json', '01_sou_023656_118278_wear_03-2onepiece(jumpsuite)_woman.json', '01_sou_023656_118279_wear_03-2onepiece(jumpsuite)_woman.json', '01_sou_023656_118280_wear_03-2onepiece(jumpsuite)_woman.json', '01_sou_023657_118282_back_03-2onepiece(jumpsuite)_woman.json', '01_sou_023657_118283_wear_03-2onepiece(jumpsuite)_woman.json', '01_sou_023657_118284_wear_03-2onepiece(jumpsuite)_woman.json', '01_sou_023657_118285_wear_03-2onepiece(jumpsuite)_woman.json', '01_sou_023663_118312_back_03-2onepiece(jumpsuite)_man.json', '01_sou_023663_118313_wear_03-2onepiece(jumpsuite)_man.json', '01_sou_023663_118314_wear_03-2onepiece(jumpsuite)_man.json', '01_sou_023663_118315_wear_03-2onepiece(jumpsuite)_man.json', '01_sou_023664_118316_front_03-2onepiece(jumpsuite)_woman.json', '01_sou_023664_118317_back_03-2onepiece(jumpsuite)_woman.json', '01_sou_023664_118318_wear_03-2onepiece(jumpsuite)_woman.json', '01_sou_023664_118319_wear_03-2onepiece(jumpsuite)_woman.json', '01_sou_023664_118320_wear_03-2onepiece(jumpsuite)_woman.json', '01_sou_029823_149111_front_03-2onepiece(jumpsuite)_woman.json', '01_sou_029823_149112_back_03-2onepiece(jumpsuite)_woman.json', '01_sou_029823_149114_wear_03-2onepiece(jumpsuite)_woman.json', '01_sou_029823_149115_wear_03-2onepiece(jumpsuite)_woman.json', '01_sou_029827_149131_front_03-2onepiece(jumpsuite)_woman.json', '01_sou_029827_149132_back_03-2onepiece(jumpsuite)_woman.json', '01_sou_029827_149133_wear_03-2onepiece(jumpsuite)_woman.json', '01_sou_029827_149134_wear_03-2onepiece(jumpsuite)_woman.json', '01_sou_029827_149135_wear_03-2onepiece(jumpsuite)_woman.json', '01_sou_029831_149151_front_03-2onepiece(jumpsuite)_woman.json', '01_sou_029831_149152_back_03-2onepiece(jumpsuite)_woman.json', '01_sou_029831_149153_wear_03-2onepiece(jumpsuite)_woman.json', '01_sou_029831_149154_wear_03-2onepiece(jumpsuite)_woman.json', '01_sou_029836_149176_front_03-2onepiece(jumpsuite)_woman.json', '01_sou_029836_149178_wear_03-2onepiece(jumpsuite)_woman.json', '01_sou_029836_149179_wear_03-2onepiece(jumpsuite)_woman.json', '01_sou_029836_149180_wear_03-2onepiece(jumpsuite)_woman.json', '01_sou_029837_149184_wear_03-2onepiece(jumpsuite)_woman.json', '01_sou_029837_149185_wear_03-2onepiece(jumpsuite)_woman.json', '01_sou_029838_149186_front_03-2onepiece(jumpsuite)_woman.json', '01_sou_029838_149187_back_03-2onepiece(jumpsuite)_woman.json', '01_sou_029838_149188_wear_03-2onepiece(jumpsuite)_woman.json', '01_sou_029838_149189_wear_03-2onepiece(jumpsuite)_woman.json', '01_sou_029838_149190_wear_03-2onepiece(jumpsuite)_woman.json', '01_sou_029848_149236_front_03-2onepiece(jumpsuite)_woman.json', '01_sou_029848_149238_wear_03-2onepiece(jumpsuite)_woman.json', '01_sou_029848_149239_wear_03-2onepiece(jumpsuite)_woman.json', '01_sou_029848_149240_wear_03-2onepiece(jumpsuite)_woman.json', '01_sou_029849_149241_front_03-2onepiece(jumpsuite)_woman.json', '01_sou_029849_149242_back_03-2onepiece(jumpsuite)_woman.json', '01_sou_029849_149243_wear_03-2onepiece(jumpsuite)_woman.json', '01_sou_029849_149244_wear_03-2onepiece(jumpsuite)_woman.json', '01_sou_029849_149245_wear_03-2onepiece(jumpsuite)_woman.json', '01_sou_038156_190778_wear_03-2onepiece(jumpsuite)_woman.json', '01_sou_038156_190779_wear_03-2onepiece(jumpsuite)_woman.json', '01_sou_038156_190780_wear_03-2onepiece(jumpsuite)_woman.json', '01_sou_038157_190781_front_03-2onepiece(jumpsuite)_woman.json', '01_sou_038157_190782_back_03-2onepiece(jumpsuite)_woman.json', '01_sou_038157_190783_wear_03-2onepiece(jumpsuite)_woman.json', '01_sou_038157_190784_wear_03-2onepiece(jumpsuite)_woman.json', '01_sou_038157_190785_wear_03-2onepiece(jumpsuite)_woman.json', '01_sou_038159_190791_front_03-2onepiece(jumpsuite)_woman.json', '01_sou_038159_190792_back_03-2onepiece(jumpsuite)_woman.json', '01_sou_038159_190794_wear_03-2onepiece(jumpsuite)_woman.json', '01_sou_038161_190801_front_03-2onepiece(jumpsuite)_woman.json', '01_sou_038161_190802_back_03-2onepiece(jumpsuite)_woman.json', '01_sou_038161_190803_wear_03-2onepiece(jumpsuite)_woman.json', '01_sou_038161_190804_wear_03-2onepiece(jumpsuite)_woman.json', '01_sou_038161_190805_wear_03-2onepiece(jumpsuite)_woman.json', '01_sou_049504_247516_front_03-2onepiece(jumpsuite)_woman.json', '01_sou_049504_247517_back_03-2onepiece(jumpsuite)_woman.json', '01_sou_049504_247520_wear_03-2onepiece(jumpsuite)_woman.json', '01_sou_049505_247521_front_03-2onepiece(jumpsuite)_woman.json', '01_sou_049505_247522_back_03-2onepiece(jumpsuite)_woman.json', '01_sou_049505_247524_wear_03-2onepiece(jumpsuite)_woman.json', '01_sou_049505_247525_wear_03-2onepiece(jumpsuite)_woman.json', '01_sou_049507_247531_front_03-2onepiece(jumpsuite)_woman.json', '01_sou_049507_247532_back_03-2onepiece(jumpsuite)_woman.json', '01_sou_049507_247533_wear_03-2onepiece(jumpsuite)_woman.json', '01_sou_049507_247534_wear_03-2onepiece(jumpsuite)_woman.json', '01_sou_049507_247535_wear_03-2onepiece(jumpsuite)_woman.json', '01_sou_049517_247582_back_03-2onepiece(jumpsuite)_woman.json', '01_sou_049517_247584_wear_03-2onepiece(jumpsuite)_woman.json', '01_sou_049517_247585_wear_03-2onepiece(jumpsuite)_woman.json', '01_sou_057829_289142_back_03-2onepiece(jumpsuite)_woman.json', '01_sou_057829_289143_wear_03-2onepiece(jumpsuite)_woman.json', '01_sou_057829_289144_wear_03-2onepiece(jumpsuite)_woman.json', '01_sou_057829_289145_wear_03-2onepiece(jumpsuite)_woman.json', '01_sou_057835_289172_back_03-2onepiece(jumpsuite)_woman.json', '01_sou_057835_289175_wear_03-2onepiece(jumpsuite)_woman.json', '01_sou_060875_304371_front_03-2onepiece(jumpsuite)_woman.json', '01_sou_060875_304372_back_03-2onepiece(jumpsuite)_woman.json', '01_sou_060875_304373_wear_03-2onepiece(jumpsuite)_woman.json', '01_sou_060875_304375_wear_03-2onepiece(jumpsuite)_woman.json', '01_sou_060877_304381_front_03-2onepiece(jumpsuite)_woman.json', '01_sou_060877_304382_back_03-2onepiece(jumpsuite)_woman.json', '01_sou_060877_304383_wear_03-2onepiece(jumpsuite)_woman.json', '01_sou_060877_304385_wear_03-2onepiece(jumpsuite)_woman.json', '01_sou_060879_304391_front_03-2onepiece(jumpsuite)_woman.json', '01_sou_060879_304392_back_03-2onepiece(jumpsuite)_woman.json', '01_sou_060879_304393_wear_03-2onepiece(jumpsuite)_woman.json', '01_sou_060879_304395_wear_03-2onepiece(jumpsuite)_woman.json', '01_sou_075443_377213_wear_03-2onepiece(jumpsuite)_woman.json', '01_sou_075443_377214_wear_03-2onepiece(jumpsuite)_woman.json', '01_sou_075443_377215_wear_03-2onepiece(jumpsuite)_woman.json', '01_sou_075445_377223_wear_03-2onepiece(jumpsuite)_woman.json', '01_sou_075445_377225_wear_03-2onepiece(jumpsuite)_woman.json', '01_sou_075450_377247_back_03-2onepiece(jumpsuite)_woman.json', '01_sou_075450_377248_wear_03-2onepiece(jumpsuite)_woman.json', '01_sou_075450_377250_wear_03-2onepiece(jumpsuite)_woman.json', '01_sou_075458_377286_front_03-2onepiece(jumpsuite)_woman.json', '01_sou_075458_377287_back_03-2onepiece(jumpsuite)_woman.json', '01_sou_075458_377288_wear_03-2onepiece(jumpsuite)_woman.json', '01_sou_075458_377290_wear_03-2onepiece(jumpsuite)_woman.json', '01_sou_075460_377296_front_03-2onepiece(jumpsuite)_woman.json', '01_sou_075460_377297_back_03-2onepiece(jumpsuite)_woman.json', '01_sou_075460_377299_wear_03-2onepiece(jumpsuite)_woman.json', '01_sou_075460_377300_wear_03-2onepiece(jumpsuite)_woman.json', '01_sou_075461_377301_front_03-2onepiece(jumpsuite)_woman.json', '01_sou_075461_377302_back_03-2onepiece(jumpsuite)_woman.json', '01_sou_075461_377303_wear_03-2onepiece(jumpsuite)_woman.json', '01_sou_075461_377304_wear_03-2onepiece(jumpsuite)_woman.json', '01_sou_075461_377305_wear_03-2onepiece(jumpsuite)_woman.json', '01_sou_075464_377316_front_03-2onepiece(jumpsuite)_woman.json', '01_sou_075464_377318_wear_03-2onepiece(jumpsuite)_woman.json', '01_sou_075464_377319_wear_03-2onepiece(jumpsuite)_woman.json', '01_sou_075464_377320_wear_03-2onepiece(jumpsuite)_woman.json', '01_sou_075465_377321_front_03-2onepiece(jumpsuite)_woman.json', '01_sou_075465_377322_back_03-2onepiece(jumpsuite)_woman.json', '01_sou_075465_377323_wear_03-2onepiece(jumpsuite)_woman.json', '01_sou_075465_377324_wear_03-2onepiece(jumpsuite)_woman.json', '01_sou_075465_377325_wear_03-2onepiece(jumpsuite)_woman.json', '01_sou_075478_377386_front_03-2onepiece(jumpsuite)_woman.json', '01_sou_075478_377387_back_03-2onepiece(jumpsuite)_woman.json', '01_sou_075478_377388_wear_03-2onepiece(jumpsuite)_woman.json', '01_sou_075478_377389_wear_03-2onepiece(jumpsuite)_woman.json', '01_sou_075478_377390_wear_03-2onepiece(jumpsuite)_woman.json', '01_sou_075479_377391_front_03-2onepiece(jumpsuite)_woman.json', '01_sou_075479_377392_back_03-2onepiece(jumpsuite)_woman.json', '01_sou_075479_377393_wear_03-2onepiece(jumpsuite)_woman.json', '01_sou_085282_426406_front_03-2onepiece(jumpsuite)_woman.json', '01_sou_085282_426409_wear_03-2onepiece(jumpsuite)_woman.json', '01_sou_085282_426410_wear_03-2onepiece(jumpsuite)_woman.json', '01_sou_085286_426426_front_03-2onepiece(jumpsuite)_woman.json', '01_sou_085286_426427_back_03-2onepiece(jumpsuite)_woman.json', '01_sou_085286_426428_wear_03-2onepiece(jumpsuite)_woman.json', '01_sou_085286_426429_wear_03-2onepiece(jumpsuite)_woman.json', '01_sou_085286_426430_wear_03-2onepiece(jumpsuite)_woman.json', '01_sou_085289_426441_front_03-2onepiece(jumpsuite)_woman.json', '01_sou_085289_426442_back_03-2onepiece(jumpsuite)_woman.json', '01_sou_085289_426443_wear_03-2onepiece(jumpsuite)_woman.json', '01_sou_085289_426444_wear_03-2onepiece(jumpsuite)_woman.json', '01_sou_085289_426445_wear_03-2onepiece(jumpsuite)_woman.json', '01_sou_085295_426471_front_03-2onepiece(jumpsuite)_woman.json', '01_sou_085295_426472_back_03-2onepiece(jumpsuite)_woman.json', '01_sou_085295_426473_wear_03-2onepiece(jumpsuite)_woman.json', '01_sou_085295_426474_wear_03-2onepiece(jumpsuite)_woman.json', '01_sou_085296_426477_back_03-2onepiece(jumpsuite)_woman.json', '01_sou_085296_426478_wear_03-2onepiece(jumpsuite)_woman.json', '01_sou_085296_426479_wear_03-2onepiece(jumpsuite)_woman.json', '01_sou_085296_426480_wear_03-2onepiece(jumpsuite)_woman.json', '01_sou_085300_426496_front_03-2onepiece(jumpsuite)_woman.json', '01_sou_085300_426497_back_03-2onepiece(jumpsuite)_woman.json', '01_sou_085300_426498_wear_03-2onepiece(jumpsuite)_woman.json', '01_sou_085300_426499_wear_03-2onepiece(jumpsuite)_woman.json', '01_sou_085300_426500_wear_03-2onepiece(jumpsuite)_woman.json', '01_sou_091187_455931_front_03-2onepiece(jumpsuite)_woman.json', '01_sou_091187_455933_wear_03-2onepiece(jumpsuite)_woman.json', '01_sou_091187_455934_wear_03-2onepiece(jumpsuite)_woman.json', '01_sou_091187_455935_wear_03-2onepiece(jumpsuite)_woman.json', '01_sou_091188_455937_back_03-2onepiece(jumpsuite)_woman.json', '01_sou_091188_455939_wear_03-2onepiece(jumpsuite)_woman.json', '01_sou_091188_455940_wear_03-2onepiece(jumpsuite)_woman.json', '01_sou_096615_483071_front_03-2onepiece(jumpsuite)_woman.json', '01_sou_096615_483072_back_03-2onepiece(jumpsuite)_woman.json', '01_sou_096615_483073_wear_03-2onepiece(jumpsuite)_woman.json', '01_sou_096615_483074_wear_03-2onepiece(jumpsuite)_woman.json', '01_sou_096615_483075_wear_03-2onepiece(jumpsuite)_woman.json', '01_sou_096618_483086_front_03-2onepiece(jumpsuite)_woman.json', '01_sou_096618_483087_back_03-2onepiece(jumpsuite)_woman.json', '01_sou_096618_483089_wear_03-2onepiece(jumpsuite)_woman.json', '01_sou_096618_483090_wear_03-2onepiece(jumpsuite)_woman.json', '01_sou_096627_483131_front_03-2onepiece(jumpsuite)_woman.json', '01_sou_096627_483132_back_03-2onepiece(jumpsuite)_woman.json', '01_sou_096627_483133_wear_03-2onepiece(jumpsuite)_woman.json', '01_sou_096627_483135_wear_03-2onepiece(jumpsuite)_woman.json', '01_sou_096628_483136_front_03-2onepiece(jumpsuite)_woman.json', '01_sou_096628_483137_back_03-2onepiece(jumpsuite)_woman.json', '01_sou_096628_483138_wear_03-2onepiece(jumpsuite)_woman.json', '01_sou_096628_483139_wear_03-2onepiece(jumpsuite)_woman.json', '01_sou_096628_483140_wear_03-2onepiece(jumpsuite)_woman.json', '01_sou_096630_483146_front_03-2onepiece(jumpsuite)_woman.json', '01_sou_096630_483148_wear_03-2onepiece(jumpsuite)_woman.json', '01_sou_096630_483149_wear_03-2onepiece(jumpsuite)_woman.json', '01_sou_102485_512421_front_03-2onepiece(jumpsuite)_woman.json', '01_sou_102485_512422_back_03-2onepiece(jumpsuite)_woman.json', '01_sou_102485_512423_wear_03-2onepiece(jumpsuite)_woman.json', '01_sou_102485_512424_wear_03-2onepiece(jumpsuite)_woman.json', '01_sou_102485_512425_wear_03-2onepiece(jumpsuite)_woman.json', '01_sou_102497_512481_front_03-2onepiece(jumpsuite)_woman.json', '01_sou_102497_512482_back_03-2onepiece(jumpsuite)_woman.json', '01_sou_102497_512483_wear_03-2onepiece(jumpsuite)_woman.json', '01_sou_102497_512485_wear_03-2onepiece(jumpsuite)_woman.json', '01_sou_112725_563621_front_03-2onepiece(jumpsuite)_woman.json', '01_sou_112725_563622_back_03-2onepiece(jumpsuite)_woman.json', '01_sou_112725_563624_wear_03-2onepiece(jumpsuite)_woman.json', '01_sou_112726_563626_front_03-2onepiece(jumpsuite)_woman.json', '01_sou_112726_563627_back_03-2onepiece(jumpsuite)_woman.json', '01_sou_112726_563628_wear_03-2onepiece(jumpsuite)_woman.json', '01_sou_112726_563629_wear_03-2onepiece(jumpsuite)_woman.json', '01_sou_112726_563630_wear_03-2onepiece(jumpsuite)_woman.json', '01_sou_112727_563631_front_03-2onepiece(jumpsuite)_woman.json', '01_sou_112727_563632_back_03-2onepiece(jumpsuite)_woman.json', '01_sou_112727_563633_wear_03-2onepiece(jumpsuite)_woman.json', '01_sou_112727_563634_wear_03-2onepiece(jumpsuite)_woman.json', '01_sou_112727_563635_wear_03-2onepiece(jumpsuite)_woman.json', '01_sou_112728_563636_front_03-2onepiece(jumpsuite)_woman.json', '01_sou_112728_563637_back_03-2onepiece(jumpsuite)_woman.json', '01_sou_112728_563638_wear_03-2onepiece(jumpsuite)_woman.json', '01_sou_112728_563639_wear_03-2onepiece(jumpsuite)_woman.json', '01_sou_112728_563640_wear_03-2onepiece(jumpsuite)_woman.json', '01_sou_112729_563641_front_03-2onepiece(jumpsuite)_woman.json', '01_sou_112729_563642_back_03-2onepiece(jumpsuite)_woman.json', '01_sou_112729_563644_wear_03-2onepiece(jumpsuite)_woman.json', '01_sou_112732_563656_front_03-2onepiece(jumpsuite)_woman.json', '01_sou_112732_563658_wear_03-2onepiece(jumpsuite)_woman.json', '01_sou_112732_563659_wear_03-2onepiece(jumpsuite)_woman.json', '01_sou_112732_563660_wear_03-2onepiece(jumpsuite)_woman.json', '01_sou_112733_563662_back_03-2onepiece(jumpsuite)_woman.json', '01_sou_112733_563663_wear_03-2onepiece(jumpsuite)_woman.json', '01_sou_112733_563665_wear_03-2onepiece(jumpsuite)_woman.json', '01_sou_112734_563666_front_03-2onepiece(jumpsuite)_woman.json', '01_sou_112734_563667_back_03-2onepiece(jumpsuite)_woman.json', '01_sou_112734_563668_wear_03-2onepiece(jumpsuite)_woman.json', '01_sou_112734_563669_wear_03-2onepiece(jumpsuite)_woman.json', '01_sou_112734_563670_wear_03-2onepiece(jumpsuite)_woman.json', '01_sou_112736_563677_back_03-2onepiece(jumpsuite)_woman.json', '01_sou_112736_563678_wear_03-2onepiece(jumpsuite)_woman.json', '01_sou_112736_563680_wear_03-2onepiece(jumpsuite)_woman.json', '01_sou_112737_563682_back_03-2onepiece(jumpsuite)_woman.json', '01_sou_112737_563683_wear_03-2onepiece(jumpsuite)_woman.json', '01_sou_112737_563684_wear_03-2onepiece(jumpsuite)_woman.json', '01_sou_112737_563685_wear_03-2onepiece(jumpsuite)_woman.json', '01_sou_112738_563686_front_03-2onepiece(jumpsuite)_woman.json', '01_sou_112738_563687_back_03-2onepiece(jumpsuite)_woman.json', '01_sou_112738_563689_wear_03-2onepiece(jumpsuite)_woman.json', '01_sou_112738_563690_wear_03-2onepiece(jumpsuite)_woman.json', '01_sou_112740_563697_back_03-2onepiece(jumpsuite)_woman.json', '01_sou_112740_563699_wear_03-2onepiece(jumpsuite)_woman.json', '01_sou_112740_563700_wear_03-2onepiece(jumpsuite)_woman.json', '01_sou_112742_563706_front_03-2onepiece(jumpsuite)_woman.json', '01_sou_112742_563707_back_03-2onepiece(jumpsuite)_woman.json', '01_sou_112742_563708_wear_03-2onepiece(jumpsuite)_woman.json', '01_sou_112744_563716_front_03-2onepiece(jumpsuite)_woman.json', '01_sou_112744_563717_back_03-2onepiece(jumpsuite)_woman.json', '01_sou_112744_563720_wear_03-2onepiece(jumpsuite)_woman.json', '01_sou_112748_563736_front_03-2onepiece(jumpsuite)_woman.json', '01_sou_112748_563737_back_03-2onepiece(jumpsuite)_woman.json', '01_sou_112748_563738_wear_03-2onepiece(jumpsuite)_woman.json', '01_sou_112748_563739_wear_03-2onepiece(jumpsuite)_woman.json', '01_sou_112748_563740_wear_03-2onepiece(jumpsuite)_woman.json', '01_sou_112751_563751_front_03-2onepiece(jumpsuite)_woman.json', '01_sou_112751_563752_back_03-2onepiece(jumpsuite)_woman.json', '01_sou_112751_563754_wear_03-2onepiece(jumpsuite)_woman.json', '01_sou_112751_563755_wear_03-2onepiece(jumpsuite)_woman.json', '01_sou_112752_563756_front_03-2onepiece(jumpsuite)_woman.json', '01_sou_112752_563757_back_03-2onepiece(jumpsuite)_woman.json', '01_sou_112752_563758_wear_03-2onepiece(jumpsuite)_woman.json', '01_sou_112752_563759_wear_03-2onepiece(jumpsuite)_woman.json', '01_sou_112755_563771_front_03-2onepiece(jumpsuite)_woman.json', '01_sou_112755_563775_wear_03-2onepiece(jumpsuite)_woman.json', '01_sou_112759_563792_back_03-2onepiece(jumpsuite)_woman.json', '01_sou_112759_563794_wear_03-2onepiece(jumpsuite)_woman.json', '01_sou_112759_563795_wear_03-2onepiece(jumpsuite)_woman.json', '01_sou_112760_563799_wear_03-2onepiece(jumpsuite)_woman.json', '01_sou_112760_563800_wear_03-2onepiece(jumpsuite)_woman.json', '01_sou_112762_563806_front_03-2onepiece(jumpsuite)_woman.json', '01_sou_112762_563807_back_03-2onepiece(jumpsuite)_woman.json', '01_sou_112762_563808_wear_03-2onepiece(jumpsuite)_woman.json', '01_sou_112762_563809_wear_03-2onepiece(jumpsuite)_woman.json', '01_sou_112762_563810_wear_03-2onepiece(jumpsuite)_woman.json', '01_sou_112771_563852_back_03-2onepiece(jumpsuite)_woman.json', '01_sou_112771_563853_wear_03-2onepiece(jumpsuite)_woman.json', '01_sou_112771_563854_wear_03-2onepiece(jumpsuite)_woman.json', '01_sou_112771_563855_wear_03-2onepiece(jumpsuite)_woman.json', '01_sou_112780_563896_front_03-2onepiece(jumpsuite)_woman.json', '01_sou_112780_563897_back_03-2onepiece(jumpsuite)_woman.json', '01_sou_112780_563898_wear_03-2onepiece(jumpsuite)_woman.json', '01_sou_112780_563899_wear_03-2onepiece(jumpsuite)_woman.json', '01_sou_112780_563900_wear_03-2onepiece(jumpsuite)_woman.json', '01_sou_112781_563902_back_03-2onepiece(jumpsuite)_woman.json', '01_sou_112781_563903_wear_03-2onepiece(jumpsuite)_woman.json', '01_sou_112781_563904_wear_03-2onepiece(jumpsuite)_woman.json', '01_sou_112781_563905_wear_03-2onepiece(jumpsuite)_woman.json', '01_sou_112785_563921_front_03-2onepiece(jumpsuite)_woman.json', '01_sou_112785_563922_back_03-2onepiece(jumpsuite)_woman.json', '01_sou_112785_563923_wear_03-2onepiece(jumpsuite)_woman.json', '01_sou_112785_563924_wear_03-2onepiece(jumpsuite)_woman.json', '01_sou_112785_563925_wear_03-2onepiece(jumpsuite)_woman.json', '01_sou_112788_563936_front_03-2onepiece(jumpsuite)_woman.json', '01_sou_112788_563937_back_03-2onepiece(jumpsuite)_woman.json', '01_sou_112788_563938_wear_03-2onepiece(jumpsuite)_woman.json', '01_sou_112788_563939_wear_03-2onepiece(jumpsuite)_woman.json', '01_sou_112788_563940_wear_03-2onepiece(jumpsuite)_woman.json', '01_sou_112789_563941_front_03-2onepiece(jumpsuite)_woman.json', '01_sou_112789_563942_back_03-2onepiece(jumpsuite)_woman.json', '01_sou_112789_563943_wear_03-2onepiece(jumpsuite)_woman.json', '01_sou_112789_563944_wear_03-2onepiece(jumpsuite)_woman.json', '01_sou_112790_563946_front_03-2onepiece(jumpsuite)_woman.json', '01_sou_112790_563947_back_03-2onepiece(jumpsuite)_woman.json', '01_sou_112790_563948_wear_03-2onepiece(jumpsuite)_woman.json', '01_sou_112790_563949_wear_03-2onepiece(jumpsuite)_woman.json', '01_sou_112792_563956_front_03-2onepiece(jumpsuite)_woman.json', '01_sou_112792_563958_wear_03-2onepiece(jumpsuite)_woman.json', '01_sou_112792_563959_wear_03-2onepiece(jumpsuite)_woman.json', '01_sou_112792_563960_wear_03-2onepiece(jumpsuite)_woman.json', '01_sou_112793_563962_back_03-2onepiece(jumpsuite)_woman.json', '01_sou_112793_563964_wear_03-2onepiece(jumpsuite)_woman.json', '01_sou_112793_563965_wear_03-2onepiece(jumpsuite)_woman.json']\n"
     ]
    }
   ],
   "source": [
    "import os\n",
    "\n",
    "json_dir = \"./train/reduced/\" #현재 코드가 있는 디렉토리로부터 json 파일 있는 경로\n",
    "txt_dir =\"./txt/\"\n",
    "jsonFiles = os.listdir(json_dir) #json_dir 경로에 있는 모든 파일, 디렉토리 이름을 리스트로 변환(순서는 안정해져 있음)\n",
    "print(jsonFiles)"
   ]
  },
  {
   "cell_type": "code",
   "execution_count": null,
   "metadata": {},
   "outputs": [],
   "source": [
    "washing_method_class = {\n",
    "    \"Hand Washing30\" : 0,\n",
    "    \"Washing30\" : 1,\n",
    "    \"Washing40\" : 2, # \"Washing40_1\"\n",
    "    \"Washing60\" : 3,\n",
    "    \"Washing95\" : 4,\n",
    "\n",
    "\n",
    "    # do not washing or washing method == ‘none’\n",
    "    \"DRYCLEAN\" : 5,\n",
    "    \"DRYCLEAN : LAUNDRY\" : 6,\n",
    "    \"DRYCLEAN : petroleum solvent only\" : 7\n",
    "}\n",
    "fiber_class = {\n",
    "    \"Cotton\" : 0,\n",
    "    \"Hemp\" : 1,\n",
    "    \"cellulose fiber Others\" : 2,\n",
    "    \"Silk\" : 3,\n",
    "    \"Wool\" : 4,\n",
    "    \"protein fiber Others\" : 5,\n",
    "    \"Viscos rayon\" : 6,\n",
    "    \"regenerated fiber Others\" : 7,\n",
    "    \"Polyester\" : 8,\n",
    "    \"Nylon\" : 9,\n",
    "    \"Polyurethane\" :10,\n",
    "    \"synthetic fiber Others\" : 11\n",
    "}\n"
   ]
  },
  {
   "cell_type": "code",
   "execution_count": 4,
   "metadata": {},
   "outputs": [],
   "source": [
    "import json\n",
    "\n",
    "for idx in range(0,len(jsonFiles)): #원단별 세탁방법, 데이터 수, 드라이클리닝 개수 통계 내기\n",
    "    with open(json_dir + jsonFiles[idx], encoding='utf-8') as file: #파일 읽기(json파일 있는 경로 + 파일 이름)\n",
    "        data=json.load(file)\n",
    "    fiber = data[\"fiber_composition\"].split(\",\") #어노테이션 가져오기\n",
    "    washing_method = data[\"washing_method\"].strip() \n",
    "    drycleaning = \"drycleaning\".strip()\n",
    "    if washing_method == \"do not washing\" or washing_method=='none':\n",
    "        washing_method=drycleaning\n",
    "\n",
    "    #폴리곤 데이터를 통해서 bbox 얻기\n",
    "    annotations = data['annotation']\n",
    "    image_width = data['dataset']['dataset.width']\n",
    "    image_height = data['dataset']['dataset.height']\n",
    "    yolo_data = []\n",
    "    for annotation in annotations:\n",
    "        points = annotation['annotation_point']\n",
    "        xs = points[0::2]  # Extract x coordinates\n",
    "        ys = points[1::2]  # Extract y coordinates\n",
    "\n",
    "        min_x, max_x = min(xs), max(xs)\n",
    "        min_y, max_y = min(ys), max(ys)\n",
    "\n",
    "    bbox_width = max_x - min_x\n",
    "    bbox_height = max_y - min_y\n",
    "\n",
    "    x_center = (min_x + bbox_width / 2.0) / image_width\n",
    "    y_center = (min_y + bbox_height / 2.0) / image_height\n",
    "    norm_width = bbox_width / image_width\n",
    "    norm_height = bbox_height / image_height\n",
    "\n",
    "    #class id 설정\n",
    "    subClass_id=[] \n",
    "    if isinstance(fiber, str): #원단이 하나인지 확인\n",
    "        class_id = 8*fiber_class[fiber] + washing_method_class[washing_method]\n",
    "    else: #원단이 여러개면 subCalss_id에 각 class_id append.\n",
    "        for many_fiber in fiber:\n",
    "            class_id = 8*fiber_class[many_fiber] + washing_method_class[washing_method]\n",
    "            subClass_id.append(class_id)\n",
    "\n",
    "    f = open(txt_dir + \"{}.txt\".format(idx), \"w+\") #w+로 인해 있으면 대체, 없으면 새로 만듦.\n",
    "    for id in subClass_id:\n",
    "        f.write(str(id) + \" \" + str(x_center) + \" \" + str(y_center) + \" \" + str(norm_width) + \" \" + str(norm_height))\n",
    "    \n",
    "    f.write(\"\\n\")\n",
    "    f.close()\n",
    "    "
   ]
  },
  {
   "cell_type": "code",
   "execution_count": null,
   "metadata": {},
   "outputs": [],
   "source": []
  }
 ],
 "metadata": {
  "kernelspec": {
   "display_name": "Python 3",
   "language": "python",
   "name": "python3"
  },
  "language_info": {
   "codemirror_mode": {
    "name": "ipython",
    "version": 3
   },
   "file_extension": ".py",
   "mimetype": "text/x-python",
   "name": "python",
   "nbconvert_exporter": "python",
   "pygments_lexer": "ipython3",
   "version": "3.11.2"
  }
 },
 "nbformat": 4,
 "nbformat_minor": 2
}
