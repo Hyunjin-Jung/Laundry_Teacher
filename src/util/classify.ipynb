{
 "cells": [
  {
   "cell_type": "markdown",
   "id": "a24c44b6-7304-440a-8f87-88e2be683436",
   "metadata": {},
   "source": [
    "# Classify all image sets whether each of them is a candidate"
   ]
  },
  {
   "cell_type": "code",
   "execution_count": 1,
   "id": "1cd237a3-12bc-4ff3-bc6e-a52460a3d670",
   "metadata": {},
   "outputs": [],
   "source": [
    "import os\n",
    "import shutil\n",
    "from time import time"
   ]
  },
  {
   "cell_type": "code",
   "execution_count": 23,
   "id": "dfbbd697-afd5-4938-a404-d6ebe3bf57ae",
   "metadata": {},
   "outputs": [
    {
     "name": "stdout",
     "output_type": "stream",
     "text": [
      "Start loading files\n",
      "Finish loading files, elapsed = 0.21 sec(s)\n"
     ]
    }
   ],
   "source": [
    "root = './../dataset/labels/'\n",
    "train_candidates = []\n",
    "val_candidates = []\n",
    "print(f\"Start loading files\")\n",
    "start = time()\n",
    "with os.scandir(root) as dirs:\n",
    "    for dir in dirs:\n",
    "        if os.path.isdir(dir) and (dir.name == 'train' or dir.name == 'val'):\n",
    "            txt_path = root + dir.name + '/reduced/'\n",
    "            with os.scandir(txt_path) as items:\n",
    "                for item in items:\n",
    "                    if dir.name == 'train':\n",
    "                        train_candidates.append(item.name)\n",
    "                    else:\n",
    "                        val_candidates.append(item.name)\n",
    "end = time()\n",
    "print(f\"Finish loading files, elapsed = {end - start:.2f} sec(s)\")"
   ]
  },
  {
   "cell_type": "code",
   "execution_count": 24,
   "id": "a9260745-7ab1-4092-a4ae-42e6f4efd519",
   "metadata": {},
   "outputs": [
    {
     "name": "stdout",
     "output_type": "stream",
     "text": [
      "Start classifying image files in ./../dataset/images/\n",
      "number of processed items: 1000\n",
      "number of processed items: 2000\n",
      "number of processed items: 3000\n",
      "number of processed items: 4000\n",
      "number of processed items: 5000\n",
      "number of processed items: 6000\n",
      "number of processed items: 7000\n",
      "number of processed items: 8000\n",
      "number of processed items: 9000\n",
      "number of processed items: 10000\n",
      "number of processed items: 11000\n",
      "number of processed items: 12000\n",
      "number of processed items: 13000\n",
      "number of processed items: 14000\n",
      "number of processed items: 15000\n",
      "number of processed items: 16000\n",
      "number of processed items: 17000\n",
      "number of processed items: 18000\n",
      "number of processed items: 19000\n",
      "number of processed items: 20000\n",
      "number of processed items: 21000\n",
      "number of processed items: 22000\n",
      "number of processed items: 23000\n",
      "number of processed items: 24000\n",
      "number of processed items: 25000\n",
      "number of processed items: 26000\n",
      "number of processed items: 27000\n",
      "number of processed items: 28000\n",
      "number of processed items: 29000\n",
      "number of processed items: 30000\n",
      "number of processed items: 31000\n",
      "number of processed items: 32000\n",
      "number of processed items: 33000\n",
      "number of processed items: 34000\n",
      "number of processed items: 35000\n",
      "number of processed items: 36000\n",
      "number of processed items: 37000\n",
      "number of processed items: 38000\n",
      "Finish classifying image files in ./../dataset/images/, elapsed = 127.22 sec(s)\n"
     ]
    }
   ],
   "source": [
    "images_root = './../dataset/images/'\n",
    "images = []\n",
    "processed = 0\n",
    "print(f\"Start classifying image files in {images_root}\")\n",
    "start = time()\n",
    "with os.scandir(images_root) as dirs:\n",
    "    for dir in dirs:\n",
    "        if os.path.isdir(dir) and (dir.name == 'train' or dir.name == 'val'):\n",
    "            src = images_root + dir.name + '/reduced/'\n",
    "            dest = images_root + dir.name + '/resampled/'\n",
    "            if not os.path.exists(dest):\n",
    "                os.makedirs(dest)\n",
    "            candidates = train_candidates if dir.name == 'train' else val_candidates\n",
    "            for c in candidates:\n",
    "                name = c[:c.find('.txt')] + '.jpg'\n",
    "                src_item = src + name\n",
    "                dest_item = dest + name\n",
    "                shutil.copyfile(src_item, dest_item)\n",
    "                processed = processed + 1\n",
    "                if processed % 1000 == 0:\n",
    "                    print(f'number of processed items: {processed}')\n",
    "end = time()\n",
    "print(f\"Finish classifying image files in {images_root}, elapsed = {end - start:.2f} sec(s)\")"
   ]
  }
 ],
 "metadata": {
  "kernelspec": {
   "display_name": "Python 3 (ipykernel)",
   "language": "python",
   "name": "python3"
  },
  "language_info": {
   "codemirror_mode": {
    "name": "ipython",
    "version": 3
   },
   "file_extension": ".py",
   "mimetype": "text/x-python",
   "name": "python",
   "nbconvert_exporter": "python",
   "pygments_lexer": "ipython3",
   "version": "3.12.2"
  }
 },
 "nbformat": 4,
 "nbformat_minor": 5
}
