{
 "cells": [
  {
   "cell_type": "code",
   "execution_count": null,
   "metadata": {},
   "outputs": [],
   "source": [
    "!pip install git+https://github.com/ultralytics/ultralytics.git@main"
   ]
  },
  {
   "cell_type": "markdown",
   "metadata": {},
   "source": [
    "# Train"
   ]
  },
  {
   "cell_type": "code",
   "execution_count": 1,
   "metadata": {},
   "outputs": [],
   "source": [
    "from ultralytics import YOLO\n",
    "\n",
    "model = YOLO('yolov8n.pt')"
   ]
  },
  {
   "cell_type": "code",
   "execution_count": 2,
   "metadata": {},
   "outputs": [
    {
     "data": {
      "text/plain": [
       "YOLO(\n",
       "  (model): DetectionModel(\n",
       "    (model): Sequential(\n",
       "      (0): Conv(\n",
       "        (conv): Conv2d(3, 16, kernel_size=(3, 3), stride=(2, 2), padding=(1, 1), bias=False)\n",
       "        (bn): BatchNorm2d(16, eps=0.001, momentum=0.03, affine=True, track_running_stats=True)\n",
       "        (act): SiLU(inplace=True)\n",
       "      )\n",
       "      (1): Conv(\n",
       "        (conv): Conv2d(16, 32, kernel_size=(3, 3), stride=(2, 2), padding=(1, 1), bias=False)\n",
       "        (bn): BatchNorm2d(32, eps=0.001, momentum=0.03, affine=True, track_running_stats=True)\n",
       "        (act): SiLU(inplace=True)\n",
       "      )\n",
       "      (2): C2f(\n",
       "        (cv1): Conv(\n",
       "          (conv): Conv2d(32, 32, kernel_size=(1, 1), stride=(1, 1), bias=False)\n",
       "          (bn): BatchNorm2d(32, eps=0.001, momentum=0.03, affine=True, track_running_stats=True)\n",
       "          (act): SiLU(inplace=True)\n",
       "        )\n",
       "        (cv2): Conv(\n",
       "          (conv): Conv2d(48, 32, kernel_size=(1, 1), stride=(1, 1), bias=False)\n",
       "          (bn): BatchNorm2d(32, eps=0.001, momentum=0.03, affine=True, track_running_stats=True)\n",
       "          (act): SiLU(inplace=True)\n",
       "        )\n",
       "        (m): ModuleList(\n",
       "          (0): Bottleneck(\n",
       "            (cv1): Conv(\n",
       "              (conv): Conv2d(16, 16, kernel_size=(3, 3), stride=(1, 1), padding=(1, 1), bias=False)\n",
       "              (bn): BatchNorm2d(16, eps=0.001, momentum=0.03, affine=True, track_running_stats=True)\n",
       "              (act): SiLU(inplace=True)\n",
       "            )\n",
       "            (cv2): Conv(\n",
       "              (conv): Conv2d(16, 16, kernel_size=(3, 3), stride=(1, 1), padding=(1, 1), bias=False)\n",
       "              (bn): BatchNorm2d(16, eps=0.001, momentum=0.03, affine=True, track_running_stats=True)\n",
       "              (act): SiLU(inplace=True)\n",
       "            )\n",
       "          )\n",
       "        )\n",
       "      )\n",
       "      (3): Conv(\n",
       "        (conv): Conv2d(32, 64, kernel_size=(3, 3), stride=(2, 2), padding=(1, 1), bias=False)\n",
       "        (bn): BatchNorm2d(64, eps=0.001, momentum=0.03, affine=True, track_running_stats=True)\n",
       "        (act): SiLU(inplace=True)\n",
       "      )\n",
       "      (4): C2f(\n",
       "        (cv1): Conv(\n",
       "          (conv): Conv2d(64, 64, kernel_size=(1, 1), stride=(1, 1), bias=False)\n",
       "          (bn): BatchNorm2d(64, eps=0.001, momentum=0.03, affine=True, track_running_stats=True)\n",
       "          (act): SiLU(inplace=True)\n",
       "        )\n",
       "        (cv2): Conv(\n",
       "          (conv): Conv2d(128, 64, kernel_size=(1, 1), stride=(1, 1), bias=False)\n",
       "          (bn): BatchNorm2d(64, eps=0.001, momentum=0.03, affine=True, track_running_stats=True)\n",
       "          (act): SiLU(inplace=True)\n",
       "        )\n",
       "        (m): ModuleList(\n",
       "          (0-1): 2 x Bottleneck(\n",
       "            (cv1): Conv(\n",
       "              (conv): Conv2d(32, 32, kernel_size=(3, 3), stride=(1, 1), padding=(1, 1), bias=False)\n",
       "              (bn): BatchNorm2d(32, eps=0.001, momentum=0.03, affine=True, track_running_stats=True)\n",
       "              (act): SiLU(inplace=True)\n",
       "            )\n",
       "            (cv2): Conv(\n",
       "              (conv): Conv2d(32, 32, kernel_size=(3, 3), stride=(1, 1), padding=(1, 1), bias=False)\n",
       "              (bn): BatchNorm2d(32, eps=0.001, momentum=0.03, affine=True, track_running_stats=True)\n",
       "              (act): SiLU(inplace=True)\n",
       "            )\n",
       "          )\n",
       "        )\n",
       "      )\n",
       "      (5): Conv(\n",
       "        (conv): Conv2d(64, 128, kernel_size=(3, 3), stride=(2, 2), padding=(1, 1), bias=False)\n",
       "        (bn): BatchNorm2d(128, eps=0.001, momentum=0.03, affine=True, track_running_stats=True)\n",
       "        (act): SiLU(inplace=True)\n",
       "      )\n",
       "      (6): C2f(\n",
       "        (cv1): Conv(\n",
       "          (conv): Conv2d(128, 128, kernel_size=(1, 1), stride=(1, 1), bias=False)\n",
       "          (bn): BatchNorm2d(128, eps=0.001, momentum=0.03, affine=True, track_running_stats=True)\n",
       "          (act): SiLU(inplace=True)\n",
       "        )\n",
       "        (cv2): Conv(\n",
       "          (conv): Conv2d(256, 128, kernel_size=(1, 1), stride=(1, 1), bias=False)\n",
       "          (bn): BatchNorm2d(128, eps=0.001, momentum=0.03, affine=True, track_running_stats=True)\n",
       "          (act): SiLU(inplace=True)\n",
       "        )\n",
       "        (m): ModuleList(\n",
       "          (0-1): 2 x Bottleneck(\n",
       "            (cv1): Conv(\n",
       "              (conv): Conv2d(64, 64, kernel_size=(3, 3), stride=(1, 1), padding=(1, 1), bias=False)\n",
       "              (bn): BatchNorm2d(64, eps=0.001, momentum=0.03, affine=True, track_running_stats=True)\n",
       "              (act): SiLU(inplace=True)\n",
       "            )\n",
       "            (cv2): Conv(\n",
       "              (conv): Conv2d(64, 64, kernel_size=(3, 3), stride=(1, 1), padding=(1, 1), bias=False)\n",
       "              (bn): BatchNorm2d(64, eps=0.001, momentum=0.03, affine=True, track_running_stats=True)\n",
       "              (act): SiLU(inplace=True)\n",
       "            )\n",
       "          )\n",
       "        )\n",
       "      )\n",
       "      (7): Conv(\n",
       "        (conv): Conv2d(128, 256, kernel_size=(3, 3), stride=(2, 2), padding=(1, 1), bias=False)\n",
       "        (bn): BatchNorm2d(256, eps=0.001, momentum=0.03, affine=True, track_running_stats=True)\n",
       "        (act): SiLU(inplace=True)\n",
       "      )\n",
       "      (8): C2f(\n",
       "        (cv1): Conv(\n",
       "          (conv): Conv2d(256, 256, kernel_size=(1, 1), stride=(1, 1), bias=False)\n",
       "          (bn): BatchNorm2d(256, eps=0.001, momentum=0.03, affine=True, track_running_stats=True)\n",
       "          (act): SiLU(inplace=True)\n",
       "        )\n",
       "        (cv2): Conv(\n",
       "          (conv): Conv2d(384, 256, kernel_size=(1, 1), stride=(1, 1), bias=False)\n",
       "          (bn): BatchNorm2d(256, eps=0.001, momentum=0.03, affine=True, track_running_stats=True)\n",
       "          (act): SiLU(inplace=True)\n",
       "        )\n",
       "        (m): ModuleList(\n",
       "          (0): Bottleneck(\n",
       "            (cv1): Conv(\n",
       "              (conv): Conv2d(128, 128, kernel_size=(3, 3), stride=(1, 1), padding=(1, 1), bias=False)\n",
       "              (bn): BatchNorm2d(128, eps=0.001, momentum=0.03, affine=True, track_running_stats=True)\n",
       "              (act): SiLU(inplace=True)\n",
       "            )\n",
       "            (cv2): Conv(\n",
       "              (conv): Conv2d(128, 128, kernel_size=(3, 3), stride=(1, 1), padding=(1, 1), bias=False)\n",
       "              (bn): BatchNorm2d(128, eps=0.001, momentum=0.03, affine=True, track_running_stats=True)\n",
       "              (act): SiLU(inplace=True)\n",
       "            )\n",
       "          )\n",
       "        )\n",
       "      )\n",
       "      (9): SPPF(\n",
       "        (cv1): Conv(\n",
       "          (conv): Conv2d(256, 128, kernel_size=(1, 1), stride=(1, 1), bias=False)\n",
       "          (bn): BatchNorm2d(128, eps=0.001, momentum=0.03, affine=True, track_running_stats=True)\n",
       "          (act): SiLU(inplace=True)\n",
       "        )\n",
       "        (cv2): Conv(\n",
       "          (conv): Conv2d(512, 256, kernel_size=(1, 1), stride=(1, 1), bias=False)\n",
       "          (bn): BatchNorm2d(256, eps=0.001, momentum=0.03, affine=True, track_running_stats=True)\n",
       "          (act): SiLU(inplace=True)\n",
       "        )\n",
       "        (m): MaxPool2d(kernel_size=5, stride=1, padding=2, dilation=1, ceil_mode=False)\n",
       "      )\n",
       "      (10): Upsample(scale_factor=2.0, mode='nearest')\n",
       "      (11): Concat()\n",
       "      (12): C2f(\n",
       "        (cv1): Conv(\n",
       "          (conv): Conv2d(384, 128, kernel_size=(1, 1), stride=(1, 1), bias=False)\n",
       "          (bn): BatchNorm2d(128, eps=0.001, momentum=0.03, affine=True, track_running_stats=True)\n",
       "          (act): SiLU(inplace=True)\n",
       "        )\n",
       "        (cv2): Conv(\n",
       "          (conv): Conv2d(192, 128, kernel_size=(1, 1), stride=(1, 1), bias=False)\n",
       "          (bn): BatchNorm2d(128, eps=0.001, momentum=0.03, affine=True, track_running_stats=True)\n",
       "          (act): SiLU(inplace=True)\n",
       "        )\n",
       "        (m): ModuleList(\n",
       "          (0): Bottleneck(\n",
       "            (cv1): Conv(\n",
       "              (conv): Conv2d(64, 64, kernel_size=(3, 3), stride=(1, 1), padding=(1, 1), bias=False)\n",
       "              (bn): BatchNorm2d(64, eps=0.001, momentum=0.03, affine=True, track_running_stats=True)\n",
       "              (act): SiLU(inplace=True)\n",
       "            )\n",
       "            (cv2): Conv(\n",
       "              (conv): Conv2d(64, 64, kernel_size=(3, 3), stride=(1, 1), padding=(1, 1), bias=False)\n",
       "              (bn): BatchNorm2d(64, eps=0.001, momentum=0.03, affine=True, track_running_stats=True)\n",
       "              (act): SiLU(inplace=True)\n",
       "            )\n",
       "          )\n",
       "        )\n",
       "      )\n",
       "      (13): Upsample(scale_factor=2.0, mode='nearest')\n",
       "      (14): Concat()\n",
       "      (15): C2f(\n",
       "        (cv1): Conv(\n",
       "          (conv): Conv2d(192, 64, kernel_size=(1, 1), stride=(1, 1), bias=False)\n",
       "          (bn): BatchNorm2d(64, eps=0.001, momentum=0.03, affine=True, track_running_stats=True)\n",
       "          (act): SiLU(inplace=True)\n",
       "        )\n",
       "        (cv2): Conv(\n",
       "          (conv): Conv2d(96, 64, kernel_size=(1, 1), stride=(1, 1), bias=False)\n",
       "          (bn): BatchNorm2d(64, eps=0.001, momentum=0.03, affine=True, track_running_stats=True)\n",
       "          (act): SiLU(inplace=True)\n",
       "        )\n",
       "        (m): ModuleList(\n",
       "          (0): Bottleneck(\n",
       "            (cv1): Conv(\n",
       "              (conv): Conv2d(32, 32, kernel_size=(3, 3), stride=(1, 1), padding=(1, 1), bias=False)\n",
       "              (bn): BatchNorm2d(32, eps=0.001, momentum=0.03, affine=True, track_running_stats=True)\n",
       "              (act): SiLU(inplace=True)\n",
       "            )\n",
       "            (cv2): Conv(\n",
       "              (conv): Conv2d(32, 32, kernel_size=(3, 3), stride=(1, 1), padding=(1, 1), bias=False)\n",
       "              (bn): BatchNorm2d(32, eps=0.001, momentum=0.03, affine=True, track_running_stats=True)\n",
       "              (act): SiLU(inplace=True)\n",
       "            )\n",
       "          )\n",
       "        )\n",
       "      )\n",
       "      (16): Conv(\n",
       "        (conv): Conv2d(64, 64, kernel_size=(3, 3), stride=(2, 2), padding=(1, 1), bias=False)\n",
       "        (bn): BatchNorm2d(64, eps=0.001, momentum=0.03, affine=True, track_running_stats=True)\n",
       "        (act): SiLU(inplace=True)\n",
       "      )\n",
       "      (17): Concat()\n",
       "      (18): C2f(\n",
       "        (cv1): Conv(\n",
       "          (conv): Conv2d(192, 128, kernel_size=(1, 1), stride=(1, 1), bias=False)\n",
       "          (bn): BatchNorm2d(128, eps=0.001, momentum=0.03, affine=True, track_running_stats=True)\n",
       "          (act): SiLU(inplace=True)\n",
       "        )\n",
       "        (cv2): Conv(\n",
       "          (conv): Conv2d(192, 128, kernel_size=(1, 1), stride=(1, 1), bias=False)\n",
       "          (bn): BatchNorm2d(128, eps=0.001, momentum=0.03, affine=True, track_running_stats=True)\n",
       "          (act): SiLU(inplace=True)\n",
       "        )\n",
       "        (m): ModuleList(\n",
       "          (0): Bottleneck(\n",
       "            (cv1): Conv(\n",
       "              (conv): Conv2d(64, 64, kernel_size=(3, 3), stride=(1, 1), padding=(1, 1), bias=False)\n",
       "              (bn): BatchNorm2d(64, eps=0.001, momentum=0.03, affine=True, track_running_stats=True)\n",
       "              (act): SiLU(inplace=True)\n",
       "            )\n",
       "            (cv2): Conv(\n",
       "              (conv): Conv2d(64, 64, kernel_size=(3, 3), stride=(1, 1), padding=(1, 1), bias=False)\n",
       "              (bn): BatchNorm2d(64, eps=0.001, momentum=0.03, affine=True, track_running_stats=True)\n",
       "              (act): SiLU(inplace=True)\n",
       "            )\n",
       "          )\n",
       "        )\n",
       "      )\n",
       "      (19): Conv(\n",
       "        (conv): Conv2d(128, 128, kernel_size=(3, 3), stride=(2, 2), padding=(1, 1), bias=False)\n",
       "        (bn): BatchNorm2d(128, eps=0.001, momentum=0.03, affine=True, track_running_stats=True)\n",
       "        (act): SiLU(inplace=True)\n",
       "      )\n",
       "      (20): Concat()\n",
       "      (21): C2f(\n",
       "        (cv1): Conv(\n",
       "          (conv): Conv2d(384, 256, kernel_size=(1, 1), stride=(1, 1), bias=False)\n",
       "          (bn): BatchNorm2d(256, eps=0.001, momentum=0.03, affine=True, track_running_stats=True)\n",
       "          (act): SiLU(inplace=True)\n",
       "        )\n",
       "        (cv2): Conv(\n",
       "          (conv): Conv2d(384, 256, kernel_size=(1, 1), stride=(1, 1), bias=False)\n",
       "          (bn): BatchNorm2d(256, eps=0.001, momentum=0.03, affine=True, track_running_stats=True)\n",
       "          (act): SiLU(inplace=True)\n",
       "        )\n",
       "        (m): ModuleList(\n",
       "          (0): Bottleneck(\n",
       "            (cv1): Conv(\n",
       "              (conv): Conv2d(128, 128, kernel_size=(3, 3), stride=(1, 1), padding=(1, 1), bias=False)\n",
       "              (bn): BatchNorm2d(128, eps=0.001, momentum=0.03, affine=True, track_running_stats=True)\n",
       "              (act): SiLU(inplace=True)\n",
       "            )\n",
       "            (cv2): Conv(\n",
       "              (conv): Conv2d(128, 128, kernel_size=(3, 3), stride=(1, 1), padding=(1, 1), bias=False)\n",
       "              (bn): BatchNorm2d(128, eps=0.001, momentum=0.03, affine=True, track_running_stats=True)\n",
       "              (act): SiLU(inplace=True)\n",
       "            )\n",
       "          )\n",
       "        )\n",
       "      )\n",
       "      (22): Detect(\n",
       "        (cv2): ModuleList(\n",
       "          (0): Sequential(\n",
       "            (0): Conv(\n",
       "              (conv): Conv2d(64, 64, kernel_size=(3, 3), stride=(1, 1), padding=(1, 1), bias=False)\n",
       "              (bn): BatchNorm2d(64, eps=0.001, momentum=0.03, affine=True, track_running_stats=True)\n",
       "              (act): SiLU(inplace=True)\n",
       "            )\n",
       "            (1): Conv(\n",
       "              (conv): Conv2d(64, 64, kernel_size=(3, 3), stride=(1, 1), padding=(1, 1), bias=False)\n",
       "              (bn): BatchNorm2d(64, eps=0.001, momentum=0.03, affine=True, track_running_stats=True)\n",
       "              (act): SiLU(inplace=True)\n",
       "            )\n",
       "            (2): Conv2d(64, 64, kernel_size=(1, 1), stride=(1, 1))\n",
       "          )\n",
       "          (1): Sequential(\n",
       "            (0): Conv(\n",
       "              (conv): Conv2d(128, 64, kernel_size=(3, 3), stride=(1, 1), padding=(1, 1), bias=False)\n",
       "              (bn): BatchNorm2d(64, eps=0.001, momentum=0.03, affine=True, track_running_stats=True)\n",
       "              (act): SiLU(inplace=True)\n",
       "            )\n",
       "            (1): Conv(\n",
       "              (conv): Conv2d(64, 64, kernel_size=(3, 3), stride=(1, 1), padding=(1, 1), bias=False)\n",
       "              (bn): BatchNorm2d(64, eps=0.001, momentum=0.03, affine=True, track_running_stats=True)\n",
       "              (act): SiLU(inplace=True)\n",
       "            )\n",
       "            (2): Conv2d(64, 64, kernel_size=(1, 1), stride=(1, 1))\n",
       "          )\n",
       "          (2): Sequential(\n",
       "            (0): Conv(\n",
       "              (conv): Conv2d(256, 64, kernel_size=(3, 3), stride=(1, 1), padding=(1, 1), bias=False)\n",
       "              (bn): BatchNorm2d(64, eps=0.001, momentum=0.03, affine=True, track_running_stats=True)\n",
       "              (act): SiLU(inplace=True)\n",
       "            )\n",
       "            (1): Conv(\n",
       "              (conv): Conv2d(64, 64, kernel_size=(3, 3), stride=(1, 1), padding=(1, 1), bias=False)\n",
       "              (bn): BatchNorm2d(64, eps=0.001, momentum=0.03, affine=True, track_running_stats=True)\n",
       "              (act): SiLU(inplace=True)\n",
       "            )\n",
       "            (2): Conv2d(64, 64, kernel_size=(1, 1), stride=(1, 1))\n",
       "          )\n",
       "        )\n",
       "        (cv3): ModuleList(\n",
       "          (0): Sequential(\n",
       "            (0): Conv(\n",
       "              (conv): Conv2d(64, 80, kernel_size=(3, 3), stride=(1, 1), padding=(1, 1), bias=False)\n",
       "              (bn): BatchNorm2d(80, eps=0.001, momentum=0.03, affine=True, track_running_stats=True)\n",
       "              (act): SiLU(inplace=True)\n",
       "            )\n",
       "            (1): Conv(\n",
       "              (conv): Conv2d(80, 80, kernel_size=(3, 3), stride=(1, 1), padding=(1, 1), bias=False)\n",
       "              (bn): BatchNorm2d(80, eps=0.001, momentum=0.03, affine=True, track_running_stats=True)\n",
       "              (act): SiLU(inplace=True)\n",
       "            )\n",
       "            (2): Conv2d(80, 80, kernel_size=(1, 1), stride=(1, 1))\n",
       "          )\n",
       "          (1): Sequential(\n",
       "            (0): Conv(\n",
       "              (conv): Conv2d(128, 80, kernel_size=(3, 3), stride=(1, 1), padding=(1, 1), bias=False)\n",
       "              (bn): BatchNorm2d(80, eps=0.001, momentum=0.03, affine=True, track_running_stats=True)\n",
       "              (act): SiLU(inplace=True)\n",
       "            )\n",
       "            (1): Conv(\n",
       "              (conv): Conv2d(80, 80, kernel_size=(3, 3), stride=(1, 1), padding=(1, 1), bias=False)\n",
       "              (bn): BatchNorm2d(80, eps=0.001, momentum=0.03, affine=True, track_running_stats=True)\n",
       "              (act): SiLU(inplace=True)\n",
       "            )\n",
       "            (2): Conv2d(80, 80, kernel_size=(1, 1), stride=(1, 1))\n",
       "          )\n",
       "          (2): Sequential(\n",
       "            (0): Conv(\n",
       "              (conv): Conv2d(256, 80, kernel_size=(3, 3), stride=(1, 1), padding=(1, 1), bias=False)\n",
       "              (bn): BatchNorm2d(80, eps=0.001, momentum=0.03, affine=True, track_running_stats=True)\n",
       "              (act): SiLU(inplace=True)\n",
       "            )\n",
       "            (1): Conv(\n",
       "              (conv): Conv2d(80, 80, kernel_size=(3, 3), stride=(1, 1), padding=(1, 1), bias=False)\n",
       "              (bn): BatchNorm2d(80, eps=0.001, momentum=0.03, affine=True, track_running_stats=True)\n",
       "              (act): SiLU(inplace=True)\n",
       "            )\n",
       "            (2): Conv2d(80, 80, kernel_size=(1, 1), stride=(1, 1))\n",
       "          )\n",
       "        )\n",
       "        (dfl): DFL(\n",
       "          (conv): Conv2d(16, 1, kernel_size=(1, 1), stride=(1, 1), bias=False)\n",
       "        )\n",
       "      )\n",
       "    )\n",
       "  )\n",
       ")"
      ]
     },
     "execution_count": 2,
     "metadata": {},
     "output_type": "execute_result"
    }
   ],
   "source": [
    "model"
   ]
  },
  {
   "cell_type": "code",
   "execution_count": null,
   "metadata": {},
   "outputs": [],
   "source": [
    "result = model.train(data='detector.yaml', epochs=4, imgsz=640 )"
   ]
  },
  {
   "cell_type": "code",
   "execution_count": null,
   "metadata": {},
   "outputs": [],
   "source": [
    "model.export(format =  'torchscript')"
   ]
  },
  {
   "cell_type": "markdown",
   "metadata": {},
   "source": [
    "# Inference"
   ]
  },
  {
   "cell_type": "code",
   "execution_count": 68,
   "metadata": {},
   "outputs": [
    {
     "name": "stdout",
     "output_type": "stream",
     "text": [
      "\n",
      "image 1/1 d:\\Deep learning\\sample7.jpg: 640x640 2 Cottons, 4 Polyesters, 1 Polyurethane, 208.2ms\n",
      "Speed: 4.0ms preprocess, 208.2ms inference, 1.0ms postprocess per image at shape (1, 3, 640, 640)\n"
     ]
    }
   ],
   "source": [
    "from ultralytics import YOLO\n",
    "\n",
    "#model = YOLO(\".\\\\runs\\\\detect\\\\freeze_50epoch\\\\weights\\\\best.pt\")\n",
    "model = YOLO('..\\\\models\\\\fiber_only.pt')\n",
    "img_path = '.\\\\sample7.jpg'\n",
    "results = model.predict(img_path, conf = 0.2, iou = 0.7)\n",
    "results[0].show()"
   ]
  },
  {
   "cell_type": "code",
   "execution_count": 7,
   "metadata": {},
   "outputs": [
    {
     "name": "stdout",
     "output_type": "stream",
     "text": [
      "\n",
      "image 1/1 d:\\Deep learning\\sample6.jpg: 640x640 12 persons, 1 backpack, 23 umbrellas, 6 handbags, 3 ties, 4 kites, 1 wine glass, 1 cup, 1 knife, 4 bananas, 4 cakes, 8 chairs, 3 beds, 1 dining table, 3 books, 1 clock, 1 teddy bear, 215.6ms\n",
      "Speed: 8.0ms preprocess, 215.6ms inference, 3.0ms postprocess per image at shape (1, 3, 640, 640)\n"
     ]
    }
   ],
   "source": [
    "results = model.predict(img_path, conf = 0.01, iou = 0.7)"
   ]
  },
  {
   "cell_type": "code",
   "execution_count": 3,
   "metadata": {},
   "outputs": [
    {
     "data": {
      "text/plain": [
       "'tensor([[3.9712e+02, 2.5439e+02, 5.2375e+02, 3.9467e+02, 4.5489e-01, 0.0000e+00],\\n        [2.9785e+02, 5.5100e+02, 4.6310e+02, 6.8978e+02, 4.1902e-01, 0.0000e+00],\\n        [8.0542e+01, 3.3324e+01, 1.7543e+02, 1.4294e+02, 3.6300e-01, 0.0000e+00],\\n        [6.3341e+02, 5.4578e+02, 6.8964e+02, 6.8963e+02, 3.4791e-01, 0.0000e+00],\\n        [2.9086e+02, 4.0108e+02, 4.4099e+02, 5.4324e+02, 3.0630e-01, 2.5000e+01],\\n        [5.7883e+02, 3.9241e+02, 6.8979e+02, 5.3876e+02, 2.8946e-01, 2.5000e+01],\\n        [7.4683e-02, 5.6403e+02, 2.5613e+01, 6.8852e+02, 2.5250e-01, 7.4000e+01],\\n        [1.2512e-01, 3.9823e+02, 5.3653e+01, 5.3321e+02, 2.0458e-01, 5.5000e+01],\\n        [1.2465e+02, 1.3721e+02, 2.3201e+02, 2.4894e+02, 1.6341e-01, 0.0000e+00],\\n        [1.2103e-01, 4.7729e+01, 8.3249e+01, 1.3595e+02, 1.5648e-01, 2.5000e+01],\\n        [1.8486e+02, 4.8223e+01, 2.9910e+02, 1.3408e+02, 1.3858e-01, 2.5000e+01],\\n        [1.2433e+02, 1.3701e+02, 2.3256e+02, 2.4847e+02, 1.3801e-01, 2.4000e+01],\\n        [4.6995e+02, 5.4502e+02, 6.2545e+02, 6.8970e+02, 1.0373e-01, 5.6000e+01],\\n        [5.3078e+02, 2.6397e+02, 6.6312e+02, 3.8416e+02, 1.0024e-01, 2.5000e+01],\\n        [1.7821e+02, 3.8189e+02, 2.8155e+02, 6.1320e+02, 9.9603e-02, 2.5000e+01],\\n        [5.7460e+00, 1.5434e+02, 1.1978e+02, 2.4413e+02, 9.8867e-02, 2.5000e+01],\\n        [9.3655e-02, 2.5028e+02, 1.0224e+02, 3.8925e+02, 9.7569e-02, 2.5000e+01],\\n        [5.0603e+02, 0.0000e+00, 5.8741e+02, 3.8555e+01, 7.5078e-02, 4.6000e+01],\\n        [5.6477e+01, 4.1000e+02, 1.9227e+02, 5.2728e+02, 7.3881e-02, 3.3000e+01],\\n        [4.5044e+02, 5.2555e+01, 5.6848e+02, 1.4340e+02, 7.3617e-02, 5.5000e+01],\\n        [5.7784e+02, 3.9245e+02, 6.8965e+02, 5.3913e+02, 6.5675e-02, 5.6000e+01],\\n        [4.4609e+02, 1.5245e+02, 5.6318e+02, 2.5143e+02, 6.3824e-02, 0.0000e+00],\\n        [4.7029e+02, 5.4512e+02, 6.2519e+02, 6.8977e+02, 6.2119e-02, 2.6000e+01],\\n        [4.4615e+02, 1.5311e+02, 5.6385e+02, 2.5123e+02, 5.7708e-02, 2.5000e+01],\\n        [1.6635e+02, 6.1974e+02, 2.8515e+02, 6.8967e+02, 5.7271e-02, 5.6000e+01],\\n        [2.3865e+02, 1.4874e+02, 3.5527e+02, 2.5009e+02, 5.2988e-02, 2.5000e+01],\\n        [3.7134e+01, 5.4600e+02, 1.5732e+02, 6.8984e+02, 5.0406e-02, 2.6000e+01],\\n        [5.7203e+01, 4.1015e+02, 1.9254e+02, 5.2831e+02, 4.9922e-02, 2.5000e+01],\\n        [3.7605e+01, 5.4553e+02, 1.5720e+02, 6.8975e+02, 4.9346e-02, 2.5000e+01],\\n        [3.5621e+02, 1.4901e+02, 4.3792e+02, 2.5169e+02, 4.9084e-02, 2.5000e+01],\\n        [8.1185e-02, 1.4418e+02, 2.4604e+01, 1.8574e+02, 4.6578e-02, 2.5000e+01],\\n        [2.3855e+02, 1.4849e+02, 3.5511e+02, 2.4978e+02, 4.4605e-02, 5.6000e+01],\\n        [1.8003e-01, 2.5518e+02, 1.0205e+02, 3.8923e+02, 4.1167e-02, 3.3000e+01],\\n        [2.2499e+02, 0.0000e+00, 3.3184e+02, 3.2158e+01, 3.9638e-02, 2.5000e+01],\\n        [1.3250e+00, 1.5225e+01, 6.8912e+02, 6.8193e+02, 3.7471e-02, 6.0000e+01],\\n        [5.7759e+02, 7.3085e+01, 6.2993e+02, 1.3699e+02, 3.5449e-02, 4.6000e+01],\\n        [4.4249e+02, 3.9976e+02, 5.6583e+02, 5.3754e+02, 3.4920e-02, 5.6000e+01],\\n        [5.9235e+02, 2.6260e-02, 6.2565e+02, 4.2913e+01, 2.9385e-02, 4.3000e+01],\\n        [0.0000e+00, 7.4906e-01, 6.8484e+02, 2.6747e+02, 2.8221e-02, 5.9000e+01],\\n        [1.1449e+02, 2.5450e+02, 1.9110e+02, 3.9502e+02, 2.7323e-02, 2.7000e+01],\\n        [3.4515e+02, 2.6523e-01, 4.3115e+02, 3.0437e+01, 2.7261e-02, 5.5000e+01],\\n        [4.4465e+02, 2.7635e-01, 4.9293e+02, 4.4178e+01, 2.6986e-02, 4.1000e+01],\\n        [5.6993e+02, 4.9869e+01, 6.3656e+02, 1.3692e+02, 2.6885e-02, 7.7000e+01],\\n        [5.7229e+02, 1.4843e+02, 6.6647e+02, 2.5499e+02, 2.5478e-02, 0.0000e+00],\\n        [9.1758e+01, 8.5259e-02, 1.5791e+02, 2.9648e+01, 2.3762e-02, 0.0000e+00],\\n        [1.8644e+02, 2.6964e+02, 3.1029e+02, 3.7756e+02, 2.3647e-02, 2.7000e+01],\\n        [3.5607e+02, 1.4853e+02, 4.3819e+02, 2.5147e+02, 2.2400e-02, 3.3000e+01],\\n        [6.5069e-02, 1.4562e+02, 2.4507e+01, 1.8570e+02, 2.2030e-02, 0.0000e+00],\\n        [1.1467e+02, 2.5527e+02, 1.9143e+02, 3.9740e+02, 2.1381e-02, 7.3000e+01],\\n        [3.2088e+02, 2.5557e+02, 3.8538e+02, 3.9550e+02, 2.1209e-02, 2.5000e+01],\\n        [3.2943e-02, 2.4816e+02, 1.0273e+02, 3.9087e+02, 2.1204e-02, 2.6000e+01],\\n        [5.0976e+02, 1.3574e-01, 5.2995e+02, 3.8456e+01, 2.0129e-02, 4.6000e+01],\\n        [7.6721e-02, 1.4289e+02, 2.5483e+01, 2.8050e+02, 2.0060e-02, 2.5000e+01],\\n        [1.8609e+02, 2.6961e+02, 3.1063e+02, 3.7720e+02, 1.9360e-02, 2.5000e+01],\\n        [5.7212e+02, 1.4832e+02, 6.6667e+02, 2.5525e+02, 1.9247e-02, 2.6000e+01],\\n        [4.3688e+02, 3.9696e+02, 5.7400e+02, 4.6745e+02, 1.9149e-02, 2.6000e+01],\\n        [1.8660e+02, 2.7008e+02, 3.0922e+02, 3.7787e+02, 1.7686e-02, 5.5000e+01],\\n        [1.0988e+02, 2.2845e+02, 6.8835e+02, 5.4059e+02, 1.7562e-02, 5.9000e+01],\\n        [4.3671e+02, 3.9666e+02, 5.7340e+02, 4.6692e+02, 1.6837e-02, 5.6000e+01],\\n        [4.3890e+02, 3.9723e+02, 5.7091e+02, 5.3809e+02, 1.6213e-02, 2.5000e+01],\\n        [5.8201e+00, 1.5350e+02, 1.1943e+02, 2.4346e+02, 1.5776e-02, 2.7000e+01],\\n        [3.6601e-02, 5.5956e+02, 2.5966e+01, 6.8982e+02, 1.5504e-02, 4.0000e+01],\\n        [3.9562e+02, 2.5297e+02, 5.2205e+02, 5.3899e+02, 1.5404e-02, 0.0000e+00],\\n        [5.2388e+02, 2.6528e-01, 5.4048e+02, 3.8327e+01, 1.3483e-02, 4.6000e+01],\\n        [8.9024e-02, 1.4223e+02, 2.5780e+01, 2.8429e+02, 1.3294e-02, 0.0000e+00],\\n        [4.3972e+02, 3.9704e+02, 5.7185e+02, 5.3838e+02, 1.3255e-02, 7.3000e+01],\\n        [6.5012e+02, 5.4516e+02, 6.8968e+02, 6.1476e+02, 1.3083e-02, 5.6000e+01],\\n        [1.1383e+02, 2.5498e+02, 1.9144e+02, 3.9576e+02, 1.2809e-02, 3.3000e+01],\\n        [3.3761e+02, 6.3169e-02, 4.3845e+02, 3.1404e+01, 1.2715e-02, 2.6000e+01],\\n        [4.3752e+02, 3.9767e+02, 5.7178e+02, 4.6683e+02, 1.2619e-02, 7.3000e+01],\\n        [0.0000e+00, 1.9256e+00, 6.8581e+02, 5.1179e+02, 1.2327e-02, 2.5000e+01],\\n        [3.3756e+02, 3.8022e-02, 4.3780e+02, 3.0770e+01, 1.2287e-02, 0.0000e+00],\\n        [4.5776e+02, 4.5843e+02, 5.5196e+02, 4.7871e+02, 1.1783e-02, 5.6000e+01],\\n        [3.0846e+02, 4.0342e+01, 3.7144e+02, 1.4556e+02, 1.1295e-02, 2.5000e+01],\\n        [5.2554e+02, 2.5140e+02, 6.9000e+02, 5.3783e+02, 1.1228e-02, 5.9000e+01],\\n        [1.9665e+00, 6.0643e-01, 6.8797e+02, 2.6633e+02, 1.1137e-02, 2.5000e+01],\\n        [4.4401e+02, 1.3201e-01, 4.9307e+02, 4.4405e+01, 1.0007e-02, 2.5000e+01]])'"
      ]
     },
     "execution_count": 3,
     "metadata": {},
     "output_type": "execute_result"
    }
   ],
   "source": [
    "str(results[0].boxes.data)"
   ]
  },
  {
   "cell_type": "code",
   "execution_count": 5,
   "metadata": {},
   "outputs": [],
   "source": [
    "results[0].show()"
   ]
  },
  {
   "cell_type": "markdown",
   "metadata": {},
   "source": [
    "# Tracking Test"
   ]
  },
  {
   "cell_type": "code",
   "execution_count": null,
   "metadata": {},
   "outputs": [],
   "source": [
    "from ultralytics import YOLO\n",
    "import cv2\n",
    "from matplotlib import pyplot as plt\n",
    "\n",
    "\n",
    "model = YOLO(\"..\\\\models\\\\fiber_only.pt\")\n",
    "#model = YOLO(\"yolov8n.pt\")\n",
    "\n",
    "img = cv2.imread(\".\\\\sample3.jpg\")\n",
    "results = model.track(img, conf=0.2, persist=True, tracker = \".\\\\config\\\\tracker.yaml\")\n",
    "annotated_frame = results[0].plot()\n",
    "plt.imshow(annotated_frame)"
   ]
  },
  {
   "cell_type": "code",
   "execution_count": null,
   "metadata": {},
   "outputs": [],
   "source": [
    "print(results[0].boxes[0].id)\n",
    "print(results[0].boxes[1].id)"
   ]
  },
  {
   "cell_type": "markdown",
   "metadata": {},
   "source": [
    "# DETECTION + NMS + TRACKING\n",
    "boxes -> new_boxes + new_boxes_cls"
   ]
  },
  {
   "cell_type": "code",
   "execution_count": 97,
   "metadata": {},
   "outputs": [
    {
     "name": "stdout",
     "output_type": "stream",
     "text": [
      "\n",
      "image 1/1 d:\\Deep learning\\sample6.jpg: 640x640 4 cottons, 2 wools, 2 viscos rayons, 4 polyesters, 1 nylon, 1 polyurethane, 2 synthetic fiber otherss, 235.8ms\n",
      "Speed: 11.2ms preprocess, 235.8ms inference, 1.0ms postprocess per image at shape (1, 3, 640, 640)\n"
     ]
    }
   ],
   "source": [
    "# detection\n",
    "from ultralytics import YOLO\n",
    "\n",
    "model = YOLO(\"..\\\\models\\\\fiber_only.pt\")\n",
    "\n",
    "img_file = \".\\\\sample6.jpg\"\n",
    "results = model.predict(img_file, conf = 0.01, iou = 0.7)\n",
    "results[0].show()"
   ]
  },
  {
   "cell_type": "code",
   "execution_count": 98,
   "metadata": {},
   "outputs": [
    {
     "data": {
      "text/plain": [
       "ultralytics.engine.results.Boxes object with attributes:\n",
       "\n",
       "cls: tensor([ 8.,  8., 11.,  0.,  8.,  0.,  4.,  9.,  6., 11.,  4.,  8.,  0.,  6., 10.,  0.])\n",
       "conf: tensor([0.3348, 0.3310, 0.2932, 0.2398, 0.2266, 0.1631, 0.1005, 0.0859, 0.0784, 0.0698, 0.0672, 0.0638, 0.0631, 0.0568, 0.0467, 0.0169])\n",
       "data: tensor([[2.1573e+01, 5.4529e+02, 1.5682e+02, 6.8999e+02, 3.3480e-01, 8.0000e+00],\n",
       "        [6.0419e+01, 5.4566e+02, 6.7498e+02, 6.9000e+02, 3.3104e-01, 8.0000e+00],\n",
       "        [2.8460e+01, 5.4943e+02, 6.8760e+02, 6.9000e+02, 2.9316e-01, 1.1000e+01],\n",
       "        [9.1173e+01, 5.4581e+02, 6.8267e+02, 6.9000e+02, 2.3983e-01, 0.0000e+00],\n",
       "        [1.5145e+02, 6.2016e+02, 2.9770e+02, 6.8990e+02, 2.2659e-01, 8.0000e+00],\n",
       "        [2.3994e+01, 5.4518e+02, 1.5702e+02, 6.8996e+02, 1.6307e-01, 0.0000e+00],\n",
       "        [5.4352e+01, 5.5377e+02, 6.8788e+02, 6.9000e+02, 1.0051e-01, 4.0000e+00],\n",
       "        [2.9543e+01, 5.4788e+02, 6.8595e+02, 6.9000e+02, 8.5910e-02, 9.0000e+00],\n",
       "        [2.3559e+01, 5.4544e+02, 1.5650e+02, 6.9000e+02, 7.8436e-02, 6.0000e+00],\n",
       "        [1.8824e+01, 5.4573e+02, 1.5698e+02, 6.9000e+02, 6.9789e-02, 1.1000e+01],\n",
       "        [2.0250e+01, 5.4578e+02, 1.5661e+02, 6.9000e+02, 6.7210e-02, 4.0000e+00],\n",
       "        [2.9189e+02, 4.0068e+02, 4.4302e+02, 5.4019e+02, 6.3760e-02, 8.0000e+00],\n",
       "        [1.5261e+02, 6.2022e+02, 2.9242e+02, 6.9000e+02, 6.3142e-02, 0.0000e+00],\n",
       "        [1.5251e+02, 6.2013e+02, 2.9411e+02, 6.9000e+02, 5.6811e-02, 6.0000e+00],\n",
       "        [1.9094e+01, 5.4630e+02, 1.5672e+02, 6.8997e+02, 4.6739e-02, 1.0000e+01],\n",
       "        [6.3289e+02, 5.6145e+02, 6.9000e+02, 6.9000e+02, 1.6884e-02, 0.0000e+00]])\n",
       "id: None\n",
       "is_track: False\n",
       "orig_shape: (690, 690)\n",
       "shape: torch.Size([16, 6])\n",
       "xywh: tensor([[ 89.1967, 617.6416, 135.2481, 144.7039],\n",
       "        [367.6978, 617.8317, 614.5577, 144.3365],\n",
       "        [358.0305, 619.7155, 659.1400, 140.5690],\n",
       "        [386.9207, 617.9055, 591.4954, 144.1890],\n",
       "        [224.5735, 655.0328, 146.2502,  69.7433],\n",
       "        [ 90.5081, 617.5718, 133.0291, 144.7827],\n",
       "        [371.1181, 621.8865, 633.5320, 136.2270],\n",
       "        [357.7464, 618.9390, 656.4070, 142.1221],\n",
       "        [ 90.0286, 617.7213, 132.9399, 144.5573],\n",
       "        [ 87.9041, 617.8657, 138.1597, 144.2686],\n",
       "        [ 88.4315, 617.8883, 136.3635, 144.2234],\n",
       "        [367.4548, 470.4348, 151.1350, 139.5014],\n",
       "        [222.5168, 655.1084, 139.8076,  69.7833],\n",
       "        [223.3115, 655.0664, 141.5982,  69.8672],\n",
       "        [ 87.9079, 618.1357, 137.6269, 143.6699],\n",
       "        [661.4447, 625.7227,  57.1107, 128.5547]])\n",
       "xywhn: tensor([[0.1293, 0.8951, 0.1960, 0.2097],\n",
       "        [0.5329, 0.8954, 0.8907, 0.2092],\n",
       "        [0.5189, 0.8981, 0.9553, 0.2037],\n",
       "        [0.5608, 0.8955, 0.8572, 0.2090],\n",
       "        [0.3255, 0.9493, 0.2120, 0.1011],\n",
       "        [0.1312, 0.8950, 0.1928, 0.2098],\n",
       "        [0.5379, 0.9013, 0.9182, 0.1974],\n",
       "        [0.5185, 0.8970, 0.9513, 0.2060],\n",
       "        [0.1305, 0.8952, 0.1927, 0.2095],\n",
       "        [0.1274, 0.8955, 0.2002, 0.2091],\n",
       "        [0.1282, 0.8955, 0.1976, 0.2090],\n",
       "        [0.5325, 0.6818, 0.2190, 0.2022],\n",
       "        [0.3225, 0.9494, 0.2026, 0.1011],\n",
       "        [0.3236, 0.9494, 0.2052, 0.1013],\n",
       "        [0.1274, 0.8958, 0.1995, 0.2082],\n",
       "        [0.9586, 0.9068, 0.0828, 0.1863]])\n",
       "xyxy: tensor([[ 21.5727, 545.2896, 156.8208, 689.9935],\n",
       "        [ 60.4190, 545.6635, 674.9767, 690.0000],\n",
       "        [ 28.4605, 549.4310, 687.6005, 690.0000],\n",
       "        [ 91.1730, 545.8110, 682.6684, 690.0000],\n",
       "        [151.4484, 620.1611, 297.6986, 689.9044],\n",
       "        [ 23.9936, 545.1805, 157.0227, 689.9631],\n",
       "        [ 54.3521, 553.7730, 687.8842, 690.0000],\n",
       "        [ 29.5429, 547.8779, 685.9499, 690.0000],\n",
       "        [ 23.5586, 545.4427, 156.4986, 690.0000],\n",
       "        [ 18.8242, 545.7314, 156.9839, 690.0000],\n",
       "        [ 20.2497, 545.7766, 156.6132, 690.0000],\n",
       "        [291.8873, 400.6841, 443.0223, 540.1854],\n",
       "        [152.6130, 620.2167, 292.4206, 690.0000],\n",
       "        [152.5124, 620.1328, 294.1106, 690.0000],\n",
       "        [ 19.0945, 546.3008, 156.7214, 689.9706],\n",
       "        [632.8893, 561.4453, 690.0000, 690.0000]])\n",
       "xyxyn: tensor([[0.0313, 0.7903, 0.2273, 1.0000],\n",
       "        [0.0876, 0.7908, 0.9782, 1.0000],\n",
       "        [0.0412, 0.7963, 0.9965, 1.0000],\n",
       "        [0.1321, 0.7910, 0.9894, 1.0000],\n",
       "        [0.2195, 0.8988, 0.4314, 0.9999],\n",
       "        [0.0348, 0.7901, 0.2276, 0.9999],\n",
       "        [0.0788, 0.8026, 0.9969, 1.0000],\n",
       "        [0.0428, 0.7940, 0.9941, 1.0000],\n",
       "        [0.0341, 0.7905, 0.2268, 1.0000],\n",
       "        [0.0273, 0.7909, 0.2275, 1.0000],\n",
       "        [0.0293, 0.7910, 0.2270, 1.0000],\n",
       "        [0.4230, 0.5807, 0.6421, 0.7829],\n",
       "        [0.2212, 0.8989, 0.4238, 1.0000],\n",
       "        [0.2210, 0.8987, 0.4262, 1.0000],\n",
       "        [0.0277, 0.7917, 0.2271, 1.0000],\n",
       "        [0.9172, 0.8137, 1.0000, 1.0000]])"
      ]
     },
     "execution_count": 98,
     "metadata": {},
     "output_type": "execute_result"
    }
   ],
   "source": [
    "results[0].boxes"
   ]
  },
  {
   "cell_type": "code",
   "execution_count": 99,
   "metadata": {},
   "outputs": [
    {
     "data": {
      "text/plain": [
       "tensor([[2.1573e+01, 5.4529e+02, 1.5682e+02, 6.8999e+02, 3.3480e-01, 8.0000e+00],\n",
       "        [6.0419e+01, 5.4566e+02, 6.7498e+02, 6.9000e+02, 3.3104e-01, 8.0000e+00],\n",
       "        [2.8460e+01, 5.4943e+02, 6.8760e+02, 6.9000e+02, 2.9316e-01, 1.1000e+01],\n",
       "        [9.1173e+01, 5.4581e+02, 6.8267e+02, 6.9000e+02, 2.3983e-01, 0.0000e+00],\n",
       "        [1.5145e+02, 6.2016e+02, 2.9770e+02, 6.8990e+02, 2.2659e-01, 8.0000e+00],\n",
       "        [2.3994e+01, 5.4518e+02, 1.5702e+02, 6.8996e+02, 1.6307e-01, 0.0000e+00],\n",
       "        [5.4352e+01, 5.5377e+02, 6.8788e+02, 6.9000e+02, 1.0051e-01, 4.0000e+00],\n",
       "        [2.9543e+01, 5.4788e+02, 6.8595e+02, 6.9000e+02, 8.5910e-02, 9.0000e+00],\n",
       "        [2.3559e+01, 5.4544e+02, 1.5650e+02, 6.9000e+02, 7.8436e-02, 6.0000e+00],\n",
       "        [1.8824e+01, 5.4573e+02, 1.5698e+02, 6.9000e+02, 6.9789e-02, 1.1000e+01],\n",
       "        [2.0250e+01, 5.4578e+02, 1.5661e+02, 6.9000e+02, 6.7210e-02, 4.0000e+00],\n",
       "        [2.9189e+02, 4.0068e+02, 4.4302e+02, 5.4019e+02, 6.3760e-02, 8.0000e+00],\n",
       "        [1.5261e+02, 6.2022e+02, 2.9242e+02, 6.9000e+02, 6.3142e-02, 0.0000e+00],\n",
       "        [1.5251e+02, 6.2013e+02, 2.9411e+02, 6.9000e+02, 5.6811e-02, 6.0000e+00],\n",
       "        [1.9094e+01, 5.4630e+02, 1.5672e+02, 6.8997e+02, 4.6739e-02, 1.0000e+01],\n",
       "        [6.3289e+02, 5.6145e+02, 6.9000e+02, 6.9000e+02, 1.6884e-02, 0.0000e+00]])"
      ]
     },
     "execution_count": 99,
     "metadata": {},
     "output_type": "execute_result"
    }
   ],
   "source": [
    "from ultralytics.engine.results import Boxes\n",
    "data = results[0].boxes.data.clone()\n",
    "orig_shape = results[0].boxes.orig_shape\n",
    "\n",
    "data\n",
    "# box score class"
   ]
  },
  {
   "cell_type": "code",
   "execution_count": 100,
   "metadata": {},
   "outputs": [
    {
     "data": {
      "text/plain": [
       "tensor([[2.1573e+01, 5.4529e+02, 1.5682e+02, 6.8999e+02, 3.3480e-01, 8.0000e+00],\n",
       "        [6.0419e+01, 5.4566e+02, 6.7498e+02, 6.9000e+02, 3.3104e-01, 8.0000e+00],\n",
       "        [2.8460e+01, 5.4943e+02, 6.8760e+02, 6.9000e+02, 2.9316e-01, 1.1000e+01],\n",
       "        [9.1173e+01, 5.4581e+02, 6.8267e+02, 6.9000e+02, 2.3983e-01, 0.0000e+00],\n",
       "        [1.5145e+02, 6.2016e+02, 2.9770e+02, 6.8990e+02, 2.2659e-01, 8.0000e+00],\n",
       "        [2.3994e+01, 5.4518e+02, 1.5702e+02, 6.8996e+02, 1.6307e-01, 0.0000e+00],\n",
       "        [5.4352e+01, 5.5377e+02, 6.8788e+02, 6.9000e+02, 1.0051e-01, 4.0000e+00],\n",
       "        [2.9543e+01, 5.4788e+02, 6.8595e+02, 6.9000e+02, 8.5910e-02, 9.0000e+00],\n",
       "        [2.3559e+01, 5.4544e+02, 1.5650e+02, 6.9000e+02, 7.8436e-02, 6.0000e+00],\n",
       "        [1.8824e+01, 5.4573e+02, 1.5698e+02, 6.9000e+02, 6.9789e-02, 1.1000e+01],\n",
       "        [2.0250e+01, 5.4578e+02, 1.5661e+02, 6.9000e+02, 6.7210e-02, 4.0000e+00],\n",
       "        [2.9189e+02, 4.0068e+02, 4.4302e+02, 5.4019e+02, 6.3760e-02, 8.0000e+00],\n",
       "        [1.5261e+02, 6.2022e+02, 2.9242e+02, 6.9000e+02, 6.3142e-02, 0.0000e+00],\n",
       "        [1.5251e+02, 6.2013e+02, 2.9411e+02, 6.9000e+02, 5.6811e-02, 6.0000e+00],\n",
       "        [1.9094e+01, 5.4630e+02, 1.5672e+02, 6.8997e+02, 4.6739e-02, 1.0000e+01],\n",
       "        [6.3289e+02, 5.6145e+02, 6.9000e+02, 6.9000e+02, 1.6884e-02, 0.0000e+00]])"
      ]
     },
     "execution_count": 100,
     "metadata": {},
     "output_type": "execute_result"
    }
   ],
   "source": [
    "# data sort by confidence score\n",
    "data = results[0].boxes.data.clone()\n",
    "indices = data[:, 4].sort(descending=True).indices\n",
    "data = data[indices]\n",
    "data"
   ]
  },
  {
   "cell_type": "code",
   "execution_count": 71,
   "metadata": {},
   "outputs": [],
   "source": [
    "# iou 계산\n",
    "# box = [x_min, y_min, x_max, y_max]\n",
    "\n",
    "def get_iou(box1, box2):\n",
    "    def _is_box_intersect(box1, box2):\n",
    "        if box1[2] <= box2[0] or box2[2] <= box1[0]:\n",
    "            return False\n",
    "        if box1[3] <= box2[1] or box2[3] <= box1[1]:\n",
    "            return False\n",
    "        return True\n",
    "    def _get_area(box):\n",
    "        return (box[2] - box[0]) * (box[3] - box[1])\n",
    "    def _get_intersection_area(box1, box2):\n",
    "        w = min(box1[2], box2[2]) - max(box1[0], box2[0])\n",
    "        h = min(box1[3], box2[3]) - max(box1[1], box2[1])\n",
    "        return w * h\n",
    "    def _get_union_area(box1, box2):\n",
    "        return _get_area(box1) + _get_area(box2) - _get_intersection_area(box1, box2)\n",
    "    \n",
    "    if not _is_box_intersect(box1, box2):\n",
    "        return 0\n",
    "    \n",
    "    i_area = _get_intersection_area(box1, box2)\n",
    "    u_area = _get_union_area(box1, box2)\n",
    "    iou = i_area / u_area\n",
    "    \n",
    "    return iou"
   ]
  },
  {
   "cell_type": "code",
   "execution_count": 101,
   "metadata": {},
   "outputs": [],
   "source": [
    "# NMS - fiber_only\n",
    "new_boxes = []\n",
    "iou_thresh = 0.5\n",
    "\n",
    "for cur in data:\n",
    "    is_new = True\n",
    "    for box in new_boxes:\n",
    "        iou = get_iou(cur, box)\n",
    "        if iou >= iou_thresh:\n",
    "            is_new = False\n",
    "            break\n",
    "    if is_new:\n",
    "        new_boxes.append(cur)      "
   ]
  },
  {
   "cell_type": "code",
   "execution_count": 48,
   "metadata": {},
   "outputs": [],
   "source": [
    "# NMS - 96 classes\n",
    "new_boxes = []\n",
    "new_boxes_cls = []\n",
    "iou_thresh = 0.5\n",
    "\n",
    "for cur in data:\n",
    "    is_new = True\n",
    "    for box, box_cls in zip(new_boxes, new_boxes_cls):\n",
    "        iou = get_iou(cur, box)\n",
    "        if iou >= iou_thresh:\n",
    "            is_new = False\n",
    "            fiber = int(cur[5]//8)\n",
    "            box_cls[0].add(fiber)\n",
    "            break\n",
    "    if is_new:\n",
    "        new_boxes.append(cur)\n",
    "        washing = int(cur[5]%8)\n",
    "        fiber = int(cur[5]//8)\n",
    "        new_boxes_cls.append([set([fiber]), washing])        "
   ]
  },
  {
   "cell_type": "code",
   "execution_count": 102,
   "metadata": {},
   "outputs": [
    {
     "data": {
      "text/plain": [
       "[tensor([2.1573e+01, 5.4529e+02, 1.5682e+02, 6.8999e+02, 3.3480e-01, 8.0000e+00]),\n",
       " tensor([6.0419e+01, 5.4566e+02, 6.7498e+02, 6.9000e+02, 3.3104e-01, 8.0000e+00]),\n",
       " tensor([1.5145e+02, 6.2016e+02, 2.9770e+02, 6.8990e+02, 2.2659e-01, 8.0000e+00]),\n",
       " tensor([2.9189e+02, 4.0068e+02, 4.4302e+02, 5.4019e+02, 6.3760e-02, 8.0000e+00]),\n",
       " tensor([6.3289e+02, 5.6145e+02, 6.9000e+02, 6.9000e+02, 1.6884e-02, 0.0000e+00])]"
      ]
     },
     "execution_count": 102,
     "metadata": {},
     "output_type": "execute_result"
    }
   ],
   "source": [
    "# NMS 결과\n",
    "new_boxes"
   ]
  },
  {
   "cell_type": "code",
   "execution_count": 103,
   "metadata": {},
   "outputs": [],
   "source": [
    "# NMS 처리 후 box 생성\n",
    "import torch\n",
    "new_boxes = torch.stack(new_boxes)\n",
    "new_boxes = Boxes(new_boxes, orig_shape)"
   ]
  },
  {
   "cell_type": "code",
   "execution_count": 145,
   "metadata": {},
   "outputs": [],
   "source": [
    "# tracking\n",
    "from ultralytics.trackers.bot_sort import BOTSORT\n",
    "from argparse import Namespace\n",
    "\n",
    "\n",
    "args = {\n",
    "    'track_high_thresh' : 0.01, # threshold for the first association\n",
    "    'track_low_thresh' : 0.001, # threshold for the second association\n",
    "    'new_track_thresh' : 0.001, # threshold for init new track if the detection does not match any tracks\n",
    "    'track_buffer' : 30, # buffer to calculate the time when to remove tracks\n",
    "    'match_thresh' : 0.8,\n",
    "\n",
    "    'gmc_method' : 'sparseOptFlow',\n",
    "    'proximity_thresh' : 0.5,\n",
    "    'appearance_thresh' : 0.25,\n",
    "    'with_reid' : False\n",
    "\n",
    "}\n",
    "tracking_model = BOTSORT(Namespace(**args))"
   ]
  },
  {
   "cell_type": "code",
   "execution_count": 146,
   "metadata": {},
   "outputs": [],
   "source": [
    "track_result = tracking_model.update(new_boxes)"
   ]
  },
  {
   "cell_type": "code",
   "execution_count": 140,
   "metadata": {},
   "outputs": [
    {
     "data": {
      "text/plain": [
       "[OT_4_(1-1), OT_5_(1-1), OT_6_(2-3), OT_7_(2-3), OT_8_(2-3)]"
      ]
     },
     "execution_count": 140,
     "metadata": {},
     "output_type": "execute_result"
    }
   ],
   "source": [
    "tracking_model.lost_stracks"
   ]
  },
  {
   "cell_type": "code",
   "execution_count": 147,
   "metadata": {},
   "outputs": [
    {
     "data": {
      "text/plain": [
       "array([[     21.573,      545.29,      156.82,      689.99,           1,      0.3348,           8,           0],\n",
       "       [     60.419,      545.66,      674.98,         690,           2,     0.33104,           8,           1],\n",
       "       [     151.45,      620.16,       297.7,       689.9,           3,     0.22659,           8,           2],\n",
       "       [     291.89,      400.68,      443.02,      540.19,           4,     0.06376,           8,           3],\n",
       "       [     632.89,      561.45,         690,         690,           5,    0.016884,           0,           4]], dtype=float32)"
      ]
     },
     "execution_count": 147,
     "metadata": {},
     "output_type": "execute_result"
    }
   ],
   "source": [
    "track_result"
   ]
  },
  {
   "cell_type": "code",
   "execution_count": null,
   "metadata": {},
   "outputs": [],
   "source": [
    "# visualization\n",
    "fiber_class = {\n",
    "    0 :\"Cotton\",\n",
    "    1 : \"Hemp\",\n",
    "    2 : \"cellulose fiber Others\",\n",
    "    3 : \"Silk\",\n",
    "    4 : \"Wool\",\n",
    "    5 : \"protein fiber Others\",\n",
    "    6 : \"Viscos rayon\",\n",
    "    7 : \"regenerated fiber Others\",\n",
    "    8 : \"Polyester\",\n",
    "    9 : \"Nylon\",\n",
    "    10 : \"Polyurethane\",\n",
    "    11 : \"synthetic fiber Others\"\n",
    "}\n",
    "\n",
    "washing_method_class = {\n",
    "    0 : \"hand washing30\",\n",
    "    1 : \"washing30\",\n",
    "    2 : \"washing40\", #     \"washing40_1\" : 2,\n",
    "    3 : \"washing60\",\n",
    "    4 : \"washing95\",\n",
    "\n",
    "    5 : \"dryclean\",\n",
    "    6 : \"dryclean : laundry\",\n",
    "    7 : \"dryclean : petroleum solvent only\"\n",
    "}\n",
    "\n",
    "import cv2\n",
    "import matplotlib.pyplot as plt\n",
    "\n",
    "img = cv2.imread(img_file)\n",
    "for result in track_result:\n",
    "    cv2.rectangle(img, (int(result[0]), int(result[1])), (int(result[2]), int(result[3])), (255,0,0))\n",
    "    id_and_class = \"id \" + str(int(result[4])) + \" / \"\n",
    "    for fiber in new_boxes_cls[int(result[7])][0]:\n",
    "         id_and_class += fiber_class[fiber] + \", \"\n",
    "    id_and_class += washing_method_class[new_boxes_cls[int(result[7])][1]]\n",
    "    cv2.putText(img, id_and_class,(int(result[0]), int(result[1])), cv2.FONT_ITALIC, 0.5, (255, 0, 0))\n",
    "\n",
    "img = cv2.cvtColor(img, cv2.COLOR_BGR2RGB)\n",
    "plt.imshow(img)"
   ]
  },
  {
   "cell_type": "code",
   "execution_count": null,
   "metadata": {},
   "outputs": [],
   "source": []
  }
 ],
 "metadata": {
  "kernelspec": {
   "display_name": "workspace",
   "language": "python",
   "name": "python3"
  },
  "language_info": {
   "codemirror_mode": {
    "name": "ipython",
    "version": 3
   },
   "file_extension": ".py",
   "mimetype": "text/x-python",
   "name": "python",
   "nbconvert_exporter": "python",
   "pygments_lexer": "ipython3",
   "version": "3.11.4"
  }
 },
 "nbformat": 4,
 "nbformat_minor": 2
}
